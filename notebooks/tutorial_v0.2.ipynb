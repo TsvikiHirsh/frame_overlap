{
 "cells": [
  {
   "cell_type": "markdown",
   "metadata": {},
   "source": [
    "# Frame Overlap Tutorial (v0.2.0)\n",
    "\n",
    "This tutorial demonstrates the frame_overlap package for analyzing neutron Time-of-Flight frame overlap data.\n",
    "\n",
    "## Overview\n",
    "\n",
    "The package provides four main classes:\n",
    "\n",
    "1. **Data**: Load and process ToF data\n",
    "2. **Reconstruct**: Apply deconvolution filters\n",
    "3. **Analysis**: Simplified nbragg integration\n",
    "4. **ParametricScan**: Parameter sensitivity analysis\n",
    "\n",
    "## CORRECT Workflow Order:\n",
    "\n",
    "```\n",
    "Data → Convolute → Poisson → Overlap → Reconstruct → Analysis\n",
    "        ↓           ↓          ↓          ↓           ↓\n",
    "    Instrument  Add noise  Frame ops  Recover     Fit with\n",
    "     response   (+ flux              signal      nbragg\n",
    "                scaling)\n",
    "```\n",
    "\n",
    "**KEY INSIGHT**: Convolute BEFORE Poisson!\n",
    "\n",
    "Why? The pulse_duration defines the pulsed source duty cycle:\n",
    "- `effective_flux = flux × pulse_duration × freq`\n",
    "- Flux is measured for continuous source, but measurement is pulsed\n",
    "- Convolute stores pulse_duration, Poisson uses it automatically\n",
    "\n",
    "## New Features in v0.2.0:\n",
    "- **Automatic flux scaling** by pulse_duration in Poisson\n",
    "- **tmin/tmax filtering**: Calculate chi² on specific time/wavelength range\n",
    "- **Vertical indicators**: Show tmin/tmax on plots\n",
    "- **Two-subplot plotting**: Data + residuals in σ units\n",
    "- **nbragg integration**: `recon.to_nbragg()` for wavelength conversion\n",
    "- **Analysis class**: Clean API for nbragg fitting\n",
    "- **Noise optimization**: `recon.optimize_noise()` with lmfit"
   ]
  },
  {
   "cell_type": "code",
   "execution_count": null,
   "metadata": {},
   "outputs": [],
   "source": [
    "import numpy as np\n",
    "import matplotlib.pyplot as plt\n",
    "from frame_overlap import Data, Reconstruct, Analysis\n",
    "\n",
    "%matplotlib inline"
   ]
  },
  {
   "cell_type": "markdown",
   "metadata": {},
   "source": [
    "## 1. Data Loading\n",
    "\n",
    "Load signal and openbeam data from CSV files."
   ]
  },
  {
   "cell_type": "code",
   "execution_count": null,
   "metadata": {},
   "outputs": [],
   "source": [
    "# Load data\n",
    "data = Data(\n",
    "    signal_file='iron_powder.csv',\n",
    "    openbeam_file='openbeam.csv',\n",
    "    flux=1e6,       # n/cm²/s (continuous source)\n",
    "    duration=1.0,   # hours\n",
    "    freq=20,        # Hz\n",
    "    threshold=0\n",
    ")\n",
    "\n",
    "print(data)\n",
    "print(f\"\\nLoaded {len(data.table)} data points\")\n",
    "print(f\"Time range: {data.table['time'].min():.1f} - {data.table['time'].max():.1f} µs\")"
   ]
  },
  {
   "cell_type": "code",
   "execution_count": null,
   "metadata": {},
   "outputs": [],
   "source": [
    "# Visualize raw data\n",
    "data.plot()\n",
    "plt.show()"
   ]
  },
  {
   "cell_type": "markdown",
   "metadata": {},
   "source": [
    "## 2. Instrument Response Convolution (FIRST!)\n",
    "\n",
    "Apply convolution to simulate the instrument's pulse duration.\n",
    "\n",
    "**IMPORTANT**: This step stores `pulse_duration`, which will be used by `poisson_sample()` to calculate effective flux."
   ]
  },
  {
   "cell_type": "code",
   "execution_count": null,
   "metadata": {},
   "outputs": [],
   "source": [
    "# Convolute with 200 µs pulse\n",
    "data.convolute_response(pulse_duration=200)\n",
    "\n",
    "print(f\"Convolution applied with pulse_duration = {data.pulse_duration} µs\")\n",
    "print(f\"Data shape: {data.table.shape}\")"
   ]
  },
  {
   "cell_type": "code",
   "execution_count": null,
   "metadata": {},
   "outputs": [],
   "source": [
    "# Visualize convolved data\n",
    "data.plot(kind=\"signal\",show_stages=True, show_errors=False,ylim=(0,5e5));"
   ]
  },
  {
   "cell_type": "markdown",
   "metadata": {},
   "source": [
    "## 3. Poisson Sampling (AFTER Convolution!)\n",
    "\n",
    "Apply Poisson sampling to simulate neutron counting statistics.\n",
    "\n",
    "**Automatic flux scaling**: Since `pulse_duration` and `freq` are known, the effective flux is:\n",
    "```\n",
    "flux_eff = flux × (pulse_duration / 1e6) × freq\n",
    "         = 1e6 × (200e-6) × 20\n",
    "         = 4000 n/cm²/s\n",
    "```"
   ]
  },
  {
   "cell_type": "code",
   "execution_count": null,
   "metadata": {},
   "outputs": [],
   "source": [
    "# Apply Poisson sampling\n",
    "# flux is automatically scaled by pulse_duration × freq\n",
    "data.poisson_sample(flux=1e6, measurement_time=240, freq=20)\n",
    "\n",
    "print(\"Poisson sampling applied\")\n",
    "print(f\"Data shape: {data.table.shape}\")"
   ]
  },
  {
   "cell_type": "code",
   "execution_count": null,
   "metadata": {},
   "outputs": [],
   "source": [
    "data.plot(kind=\"transmission\",show_stages=True, show_errors=False,ylim=(0,1));"
   ]
  },
  {
   "cell_type": "markdown",
   "metadata": {},
   "source": [
    "## 4. Frame Overlap\n",
    "\n",
    "Create overlapping frames. Example: `[0, 25]` means:\n",
    "- Frame 1 starts at t = 0 ms\n",
    "- Frame 2 starts at t = 25 ms\n",
    "\n",
    "**Optional**: Use `poisson_seed` to add randomness to the overlapped signal with duty_cycle=1.0"
   ]
  },
  {
   "cell_type": "code",
   "execution_count": null,
   "metadata": {},
   "outputs": [],
   "source": [
    "# Create 2-frame overlap\n",
    "data.overlap(kernel=[0, 25], total_time=50)\n",
    "\n",
    "print(f\"Frame overlap created with kernel: {data.kernel}\")\n",
    "print(f\"  Frame 1 starts at: 0 ms\")\n",
    "print(f\"  Frame 2 starts at: 25 ms\")\n",
    "print(f\"New data length: {len(data.table)}\")"
   ]
  },
  {
   "cell_type": "code",
   "execution_count": null,
   "metadata": {},
   "outputs": [],
   "source": [
    "# Plot overlapped data\n",
    "data.plot(kind=\"transmission\", show_errors=False,ylim=(0,1),xlim=(0,50))\n",
    "plt.title('Data after Frame Overlap')\n",
    "plt.show()"
   ]
  },
  {
   "cell_type": "code",
   "execution_count": null,
   "metadata": {},
   "outputs": [],
   "source": [
    "data.plot(kind=\"signal\",show_stages=True, show_errors=False,ylim=(0,5e3));"
   ]
  },
  {
   "cell_type": "markdown",
   "metadata": {},
   "source": [
    "## 5. Signal Reconstruction\n",
    "\n",
    "Apply deconvolution to recover the poissoned+convolved signal (before overlap).\n",
    "\n",
    "**NEW**: Specify `tmin` and `tmax` (in ms) to calculate chi² only on a specific time range!"
   ]
  },
  {
   "cell_type": "code",
   "execution_count": null,
   "metadata": {},
   "outputs": [],
   "source": [
    "# Create Reconstruct object\n",
    "# Example with tmin/tmax: recon = Reconstruct(data, tmin=10, tmax=40)\n",
    "recon = Reconstruct(data,tmin=1,tmax=6)\n",
    "\n",
    "# Apply Wiener filter\n",
    "recon.filter(kind='wiener', noise_power=0.01)\n",
    "\n",
    "print(\"Reconstruction complete!\")\n",
    "print(f\"\\nWhat we recovered: Poissoned+Convolved signal (before overlap)\")\n",
    "print(f\"Reference shape: {recon.reference_data.shape}\")\n",
    "print(f\"Reconstructed shape: {recon.reconstructed_data.shape}\")\n",
    "\n",
    "print(f\"\\nReconstruction Statistics:\")\n",
    "for key, value in recon.get_statistics().items():\n",
    "    if isinstance(value, float):\n",
    "        print(f\"  {key}: {value:.4f}\")\n",
    "    else:\n",
    "        print(f\"  {key}: {value}\")"
   ]
  },
  {
   "cell_type": "markdown",
   "metadata": {},
   "source": [
    "### Visualize Reconstruction\n",
    "\n",
    "Two-subplot layout:\n",
    "- **Top**: Poissoned+Convolved (target) vs Reconstructed\n",
    "- **Bottom**: Residuals in σ units\n",
    "\n",
    "**NEW**: Green/orange vertical lines show tmin/tmax if specified!"
   ]
  },
  {
   "cell_type": "code",
   "execution_count": null,
   "metadata": {},
   "outputs": [],
   "source": [
    "# Plot reconstruction results\n",
    "recon.plot(kind='transmission', show_errors=False,ylim=(0,1))\n",
    "plt.show()"
   ]
  },
  {
   "cell_type": "code",
   "execution_count": null,
   "metadata": {},
   "outputs": [],
   "source": [
    "# Plot signal counts\n",
    "recon.plot(kind='signal', show_errors=False)\n",
    "plt.show()"
   ]
  },
  {
   "cell_type": "markdown",
   "metadata": {},
   "source": [
    "### Automatic Noise Optimization\n",
    "\n",
    "Use `optimize_noise()` to find the optimal noise_power parameter."
   ]
  },
  {
   "cell_type": "code",
   "execution_count": null,
   "metadata": {},
   "outputs": [],
   "source": [
    "# Optimize noise parameter\n",
    "try:\n",
    "    result = recon.optimize_noise(\n",
    "        kind='wiener',\n",
    "        noise_min=1e-4,\n",
    "        noise_max=1.0,\n",
    "        method='leastsq'\n",
    "    )\n",
    "    \n",
    "    print(f\"\\nOptimal noise_power: {result.params['noise_power'].value:.4e}\")\n",
    "    print(f\"Chi-squared: {result.chisqr:.2f}\")\n",
    "    \n",
    "    # Plot optimized reconstruction\n",
    "    recon.plot(kind='transmission', show_errors=True,ylim=(0,1))\n",
    "    plt.suptitle(f\"Optimized (noise={result.params['noise_power'].value:.4e})\")\n",
    "    plt.show()\n",
    "except ImportError:\n",
    "    print(\"lmfit not installed - install with: pip install lmfit\")"
   ]
  },
  {
   "cell_type": "code",
   "execution_count": null,
   "metadata": {},
   "outputs": [],
   "source": [
    "result"
   ]
  },
  {
   "cell_type": "markdown",
   "metadata": {},
   "source": [
    "## 6. nbragg Integration\n",
    "\n",
    "Convert reconstructed data to nbragg format and fit."
   ]
  },
  {
   "cell_type": "code",
   "execution_count": null,
   "metadata": {},
   "outputs": [],
   "source": [
    "# Convert to nbragg format\n",
    "nbragg_data = recon.to_nbragg(L=9.0, tstep=10e-6)\n",
    "print(f\"✓ Converted to nbragg.Data\")\n",
    "print(f\"  Type: {type(nbragg_data)}\")"
   ]
  },
  {
   "cell_type": "code",
   "execution_count": null,
   "metadata": {},
   "outputs": [],
   "source": [
    "nbragg_data.table.plot(x=\"wavelength\",y=\"trans\",ylim=(0,1))"
   ]
  },
  {
   "cell_type": "code",
   "execution_count": null,
   "metadata": {},
   "outputs": [],
   "source": [
    "\n",
    "analysis = Analysis(xs='iron', vary_background=True,vary_response=True)\n",
    "\n",
    "print(\"Analysis object created\")\n",
    "print(f\"Access nbragg model: analysis.model.params\")\n",
    "\n",
    "# Fit\n",
    "result = analysis.fit(recon)\n",
    "\n",
    "print(f\"\\nFit complete!\")\n",
    "print(f\"Reduced chi-squared: {result.redchi:.3f}\")\n",
    "\n",
    "# Plot\n",
    "analysis.plot()\n",
    "plt.show()"
   ]
  },
  {
   "cell_type": "code",
   "execution_count": null,
   "metadata": {},
   "outputs": [],
   "source": [
    "analysis.result"
   ]
  },
  {
   "cell_type": "markdown",
   "metadata": {},
   "source": [
    "## 7. Method Chaining\n",
    "\n",
    "Complete workflow in one chain with CORRECT order."
   ]
  },
  {
   "cell_type": "code",
   "execution_count": null,
   "metadata": {},
   "outputs": [],
   "source": [
    "# Method chaining with CORRECT order\n",
    "data_chain = (Data(signal_file='iron_powder.csv', \n",
    "                   openbeam_file='openbeam.csv',\n",
    "                   flux=1e6, duration=1.0, freq=20)\n",
    "              .convolute_response(200)              # 1. Convolute (stores pulse_duration)\n",
    "              .poisson_sample(flux=1e6,             # 2. Poisson (uses pulse_duration)\n",
    "                             measurement_time=1.0, \n",
    "                             freq=20)\n",
    "              .overlap([0, 25]))                    # 3. Overlap\n",
    "\n",
    "print(\"✓ Method chaining complete (CORRECT ORDER)\")\n",
    "print(data_chain)\n",
    "\n",
    "# Reconstruct with tmin/tmax filtering\n",
    "recon_chain = Reconstruct(data_chain, tmin=10, tmax=40).filter(kind='wiener', noise_power=0.01)\n",
    "chi2_formatted = recon_chain._format_chi2(recon_chain.statistics.get('chi2_per_dof'))\n",
    "print(f\"\\nχ²/dof (10-40 ms range): {chi2_formatted}\")"
   ]
  },
  {
   "cell_type": "markdown",
   "metadata": {},
   "source": [
    "## Summary\n",
    "\n",
    "**CORRECT Processing Order**: Data → **Convolute** → **Poisson** → Overlap → Reconstruct → Analysis\n",
    "\n",
    "**Key Points**:\n",
    "1. **Convolute FIRST** to define pulse_duration\n",
    "2. **Poisson SECOND** uses pulse_duration for flux scaling:\n",
    "   - `flux_eff = flux × (pulse_duration / 1e6) × freq`\n",
    "3. **Overlap THIRD** creates overlapped frames\n",
    "4. **Reconstruction** recovers poissoned+convolved signal (before overlap)\n",
    "5. **Optional 2nd Poisson**: Use `overlap(poisson_seed=42)` for randomness\n",
    "\n",
    "**NEW v0.2.0 Features**:\n",
    "- Automatic pulse_duration scaling in Poisson\n",
    "- tmin/tmax for chi² range filtering\n",
    "- Vertical indicators on plots\n",
    "- `recon.to_nbragg()` for wavelength conversion\n",
    "- `recon.optimize_noise()` with lmfit\n",
    "- Analysis class: `analysis.model.params`\n",
    "\n",
    "**Why This Order?**\n",
    "Flux is measured for continuous source, but neutron measurements use pulsed sources. The pulse_duration (from convolution) defines the pulsing duty cycle, which must be applied to the flux before Poisson sampling."
   ]
  }
 ],
 "metadata": {
  "kernelspec": {
   "display_name": "Python 3 (ipykernel)",
   "language": "python",
   "name": "python3"
  },
  "language_info": {
   "codemirror_mode": {
    "name": "ipython",
    "version": 3
   },
   "file_extension": ".py",
   "mimetype": "text/x-python",
   "name": "python",
   "nbconvert_exporter": "python",
   "pygments_lexer": "ipython3",
   "version": "3.13.3"
  }
 },
 "nbformat": 4,
 "nbformat_minor": 4
}
