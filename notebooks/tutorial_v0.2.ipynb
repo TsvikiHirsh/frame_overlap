{
 "cells": [
  {
   "cell_type": "markdown",
   "metadata": {},
   "source": [
    "# Frame Overlap Tutorial (v0.2.0)\n",
    "\n",
    "This tutorial demonstrates the new object-oriented API introduced in version 0.2.0 for analyzing neutron Time-of-Flight frame overlap data.\n",
    "\n",
    "## Overview\n",
    "\n",
    "The frame_overlap package now provides three main classes:\n",
    "\n",
    "1. **Data**: Load and process ToF data with convolution, frame overlap, and Poisson sampling\n",
    "2. **Reconstruct**: Apply deconvolution filters to reconstruct original signals\n",
    "3. **Analysis**: Fit reconstructed data to extract material parameters\n",
    "\n",
    "We'll walk through a complete workflow from data loading to material analysis."
   ]
  },
  {
   "cell_type": "code",
   "execution_count": null,
   "metadata": {},
   "outputs": [],
   "source": [
    "import numpy as np\n",
    "import matplotlib.pyplot as plt\n",
    "from frame_overlap import Data, Reconstruct, Analysis, ParametricScan\n",
    "\n",
    "# Set up plotting\n",
    "plt.style.use('default')\n",
    "%matplotlib inline"
   ]
  },
  {
   "cell_type": "markdown",
   "metadata": {},
   "source": [
    "## 1. Data Loading and Processing\n",
    "\n",
    "First, let's load neutron ToF data. The `Data` class handles both signal and openbeam files."
   ]
  },
  {
   "cell_type": "code",
   "execution_count": null,
   "metadata": {},
   "outputs": [],
   "source": [
    "# Load data from CSV files\n",
    "data = Data(signal_file='iron_powder.csv',\n",
    "            openbeam_file='openbeam.csv',\n",
    "            flux=1e6,           # neutrons/s\n",
    "            duration=3600,      # seconds\n",
    "            threshold=30)       # filter stacks < 30\n",
    "\n",
    "print(data)\n",
    "print(f\"\\nLoaded {len(data.table)} data points\")\n",
    "print(f\"Time range: {data.table['time'].min():.1f} - {data.table['time'].max():.1f} µs\")"
   ]
  },
  {
   "cell_type": "markdown",
   "metadata": {},
   "source": [
    "### Visualize the raw data"
   ]
  },
  {
   "cell_type": "code",
   "execution_count": null,
   "metadata": {},
   "outputs": [],
   "source": [
    "# Plot signal\n",
    "fig = data.plot()\n",
    "plt.show()\n",
    "\n",
    "# Compare signal with openbeam\n",
    "fig = data.plot_comparison()\n",
    "plt.show()"
   ]
  },
  {
   "cell_type": "markdown",
   "metadata": {},
   "source": [
    "## 2. Instrument Response Convolution\n",
    "\n",
    "Simulate the effect of measuring with an instrument that has a finite pulse duration."
   ]
  },
  {
   "cell_type": "code",
   "execution_count": null,
   "metadata": {},
   "outputs": [],
   "source": [
    "# Store original for comparison\n",
    "data_original = data.copy()\n",
    "\n",
    "# Apply square response convolution (200 µs pulse)\n",
    "data.convolute_response(pulse_duration=200)\n",
    "\n",
    "print(\"Convolution applied\")\n",
    "print(f\"Data shape: {data.table.shape}\")"
   ]
  },
  {
   "cell_type": "markdown",
   "metadata": {},
   "source": [
    "## 3. Frame Overlap Creation\n",
    "\n",
    "Create overlapping frames with a custom time sequence. The sequence `[0, 12, 10, 25]` means:\n",
    "- Frame 1 starts at t = 0 ms\n",
    "- Frame 2 starts at t = 12 ms\n",
    "- Frame 3 starts at t = 12 + 10 = 22 ms\n",
    "- Frame 4 starts at t = 22 + 25 = 47 ms"
   ]
  },
  {
   "cell_type": "code",
   "execution_count": null,
   "metadata": {},
   "outputs": [],
   "source": [
    "# Create frame overlap\n",
    "data.overlap(seq=[0, 12, 10, 25])\n",
    "\n",
    "print(f\"Frame overlap created with kernel: {data.kernel}\")\n",
    "print(f\"New data length: {len(data.table)}\")\n",
    "\n",
    "# Plot overlapped data\n",
    "fig = data.plot()\n",
    "plt.title('Data after Frame Overlap')\n",
    "plt.show()"
   ]
  },
  {
   "cell_type": "markdown",
   "metadata": {},
   "source": [
    "## 4. Poisson Sampling\n",
    "\n",
    "Apply Poisson counting statistics to simulate realistic measurement conditions."
   ]
  },
  {
   "cell_type": "code",
   "execution_count": null,
   "metadata": {},
   "outputs": [],
   "source": [
    "# Apply Poisson sampling with 80% duty cycle\n",
    "data.poisson_sample(duty_cycle=0.8)\n",
    "\n",
    "# Plot final processed data\n",
    "fig = data.plot()\n",
    "plt.title('Data after Poisson Sampling')\n",
    "plt.show()"
   ]
  },
  {
   "cell_type": "markdown",
   "metadata": {},
   "source": [
    "## 5. Signal Reconstruction\n",
    "\n",
    "Now we'll use the `Reconstruct` class to deconvolve the overlapped frames and recover the original signal."
   ]
  },
  {
   "cell_type": "code",
   "execution_count": null,
   "metadata": {},
   "outputs": [],
   "source": [
    "# Create Reconstruct object\n",
    "recon = Reconstruct(data)\n",
    "\n",
    "# Apply Wiener filter\n",
    "recon.filter(kind='wiener', noise_power=0.01)\n",
    "\n",
    "print(\"Reconstruction complete\")\n",
    "print(f\"\\nReconstruction Statistics:\")\n",
    "for key, value in recon.get_statistics().items():\n",
    "    if isinstance(value, float):\n",
    "        print(f\"  {key}: {value:.4f}\")\n",
    "    else:\n",
    "        print(f\"  {key}: {value}\")"
   ]
  },
  {
   "cell_type": "markdown",
   "metadata": {},
   "source": [
    "### Visualize reconstruction results"
   ]
  },
  {
   "cell_type": "code",
   "execution_count": null,
   "metadata": {},
   "outputs": [],
   "source": [
    "# Plot reconstructed signal\n",
    "fig = recon.plot_reconstruction()\n",
    "plt.show()\n",
    "\n",
    "# Compare with reference (if available)\n",
    "try:\n",
    "    fig = recon.plot_comparison()\n",
    "    plt.show()\n",
    "    \n",
    "    fig = recon.plot_residuals()\n",
    "    plt.show()\n",
    "except ValueError:\n",
    "    print(\"Reference data not available for comparison\")"
   ]
  },
  {
   "cell_type": "markdown",
   "metadata": {},
   "source": [
    "### Try different deconvolution methods"
   ]
  },
  {
   "cell_type": "code",
   "execution_count": null,
   "metadata": {},
   "outputs": [],
   "source": [
    "# Compare Wiener, Richardson-Lucy, and Tikhonov methods\n",
    "methods = ['wiener', 'lucy', 'tikhonov']\n",
    "fig, axes = plt.subplots(1, 3, figsize=(15, 4))\n",
    "\n",
    "for ax, method in zip(axes, methods):\n",
    "    recon_test = Reconstruct(data)\n",
    "    recon_test.filter(kind=method, noise_power=0.01, iterations=10)\n",
    "    \n",
    "    ax.plot(recon_test.reconstructed_table['time'],\n",
    "            recon_test.reconstructed_table['counts'],\n",
    "            label=method.capitalize())\n",
    "    ax.set_xlabel('Time (µs)')\n",
    "    ax.set_ylabel('Counts')\n",
    "    ax.set_title(f'{method.capitalize()} Filter')\n",
    "    ax.legend()\n",
    "    ax.grid(True, alpha=0.3)\n",
    "\n",
    "plt.tight_layout()\n",
    "plt.show()"
   ]
  },
  {
   "cell_type": "markdown",
   "metadata": {},
   "source": [
    "## 6. Material Analysis\n",
    "\n",
    "Fit the reconstructed data to extract material parameters like thickness and composition."
   ]
  },
  {
   "cell_type": "code",
   "execution_count": null,
   "metadata": {},
   "outputs": [],
   "source": [
    "# Create Analysis object\n",
    "analysis = Analysis(recon)\n",
    "\n",
    "# Set material composition (default is Fe-alpha + 4% Cellulose)\n",
    "analysis.set_cross_section(['Fe_alpha', 'Cellulose'], [0.96, 0.04])\n",
    "\n",
    "# Fit with square response function\n",
    "try:\n",
    "    analysis.fit(response='square')\n",
    "    \n",
    "    # Print fit report\n",
    "    print(analysis.get_fit_report())\n",
    "except Exception as e:\n",
    "    print(f\"Fitting failed: {e}\")\n",
    "    print(\"This can happen with random test data\")"
   ]
  },
  {
   "cell_type": "markdown",
   "metadata": {},
   "source": [
    "### Visualize fit results"
   ]
  },
  {
   "cell_type": "code",
   "execution_count": null,
   "metadata": {},
   "outputs": [],
   "source": [
    "try:\n",
    "    # Plot fit\n",
    "    fig = analysis.plot_fit()\n",
    "    plt.show()\n",
    "    \n",
    "    # Plot residuals\n",
    "    fig = analysis.plot_residuals()\n",
    "    plt.show()\n",
    "    \n",
    "    # Plot material composition\n",
    "    fig = analysis.plot_materials()\n",
    "    plt.show()\n",
    "except (ValueError, AttributeError):\n",
    "    print(\"Fit visualization not available\")"
   ]
  },
  {
   "cell_type": "markdown",
   "metadata": {},
   "source": [
    "## 7. Parametric Scans\n",
    "\n",
    "Explore how different processing parameters affect the reconstruction and fitting results."
   ]
  },
  {
   "cell_type": "code",
   "execution_count": null,
   "metadata": {},
   "outputs": [],
   "source": [
    "# Load fresh data for scanning\n",
    "scan_data = Data(signal_file='iron_powder.csv', threshold=30)\n",
    "\n",
    "# Create parametric scan\n",
    "scan = ParametricScan(scan_data)\n",
    "\n",
    "# Add parameters to scan\n",
    "scan.add_parameter('pulse_duration', [100, 200, 300])\n",
    "scan.add_parameter('n_frames', [2, 3, 4])\n",
    "\n",
    "print(\"Running parametric scan...\")\n",
    "print(f\"Total combinations: {3 * 3} = 9\")\n",
    "\n",
    "# Run scan (may take a minute)\n",
    "try:\n",
    "    scan.run(verbose=True)\n",
    "    \n",
    "    # Get results\n",
    "    results = scan.get_results()\n",
    "    print(f\"\\nSuccessful runs: {len(results)} / 9\")\n",
    "    print(\"\\nSample results:\")\n",
    "    print(results[['pulse_duration', 'n_frames', 'recon_r_squared', 'fit_thickness']].head())\n",
    "except Exception as e:\n",
    "    print(f\"Scan failed: {e}\")"
   ]
  },
  {
   "cell_type": "markdown",
   "metadata": {},
   "source": [
    "### Visualize scan results"
   ]
  },
  {
   "cell_type": "code",
   "execution_count": null,
   "metadata": {},
   "outputs": [],
   "source": [
    "try:\n",
    "    # Parameter sensitivity plot\n",
    "    fig = scan.plot_parameter_sensitivity('pulse_duration', 'recon_r_squared', groupby='n_frames')\n",
    "    plt.show()\n",
    "    \n",
    "    # 2D heatmap\n",
    "    fig = scan.plot_heatmap('pulse_duration', 'n_frames', 'fit_thickness')\n",
    "    plt.show()\n",
    "    \n",
    "    # Summary statistics\n",
    "    fig = scan.plot_summary()\n",
    "    plt.show()\n",
    "except Exception as e:\n",
    "    print(f\"Plotting failed: {e}\")"
   ]
  },
  {
   "cell_type": "markdown",
   "metadata": {},
   "source": [
    "## 8. Method Chaining Example\n",
    "\n",
    "The new API supports fluent method chaining for concise workflows."
   ]
  },
  {
   "cell_type": "code",
   "execution_count": null,
   "metadata": {},
   "outputs": [],
   "source": [
    "# Complete workflow in a chained style\n",
    "data_chain = (Data(signal_file='iron_powder.csv', threshold=30)\n",
    "              .convolute_response(pulse_duration=200)\n",
    "              .overlap(seq=[0, 12, 10, 25])\n",
    "              .poisson_sample(duty_cycle=0.8))\n",
    "\n",
    "print(\"Data processing complete via method chaining\")\n",
    "print(data_chain)\n",
    "\n",
    "# Continue with reconstruction\n",
    "recon_chain = Reconstruct(data_chain).filter(kind='wiener', noise_power=0.01)\n",
    "print(f\"\\nReconstruction χ²/dof: {recon_chain.statistics.get('chi2_per_dof', 'N/A')}\")"
   ]
  },
  {
   "cell_type": "markdown",
   "metadata": {},
   "source": [
    "## Summary\n",
    "\n",
    "This tutorial covered:\n",
    "\n",
    "1. **Data Loading**: Loading signal and openbeam ToF data\n",
    "2. **Convolution**: Applying instrument response functions\n",
    "3. **Frame Overlap**: Creating overlapping frame sequences\n",
    "4. **Poisson Sampling**: Simulating counting statistics\n",
    "5. **Reconstruction**: Deconvolving signals with multiple methods\n",
    "6. **Analysis**: Fitting for material parameters\n",
    "7. **Parametric Scans**: Exploring parameter sensitivity\n",
    "8. **Method Chaining**: Concise workflow syntax\n",
    "\n",
    "The new v0.2.0 API provides a clean, intuitive interface for neutron ToF frame overlap analysis!\n",
    "\n",
    "## Additional Resources\n",
    "\n",
    "- Documentation: See README.md for complete API reference\n",
    "- Legacy API: The v0.1.0 functional API remains available for backward compatibility\n",
    "- Source code: https://github.com/TsvikiHirsh/frame_overlap"
   ]
  }
 ],
 "metadata": {
  "kernelspec": {
   "display_name": "Python 3",
   "language": "python",
   "name": "python3"
  },
  "language_info": {
   "codemirror_mode": {
    "name": "ipython",
    "version": 3
   },
   "file_extension": ".py",
   "mimetype": "text/x-python",
   "name": "python",
   "nbconvert_exporter": "python",
   "pygments_lexer": "ipython3",
   "version": "3.9.0"
  }
 },
 "nbformat": 4,
 "nbformat_minor": 4
}
