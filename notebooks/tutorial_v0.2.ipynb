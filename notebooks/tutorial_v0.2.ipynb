{
 "cells": [
  {
   "cell_type": "markdown",
   "metadata": {},
   "source": "# Frame Overlap Tutorial (v0.2.0)\n\nThis tutorial demonstrates the new object-oriented API introduced in version 0.2.0 for analyzing neutron Time-of-Flight frame overlap data.\n\n## Overview\n\nThe frame_overlap package now provides four main classes:\n\n1. **Data**: Load and process ToF data with convolution, frame overlap, and Poisson sampling\n2. **Reconstruct**: Apply deconvolution filters to reconstruct original signals with enhanced plotting\n3. **Model**: Simplified nbragg integration for transmission fitting\n4. **Analysis**: Fit reconstructed data to extract material parameters\n\n## New Features in v0.2.0:\n- **Two-subplot plotting**: Data + residuals in sigma units\n- **Enhanced plot customization**: Separate kwargs for data and residual plots\n- **nbragg compatibility**: Direct integration via `recon.table`\n- **Model class**: Predefined cross-sections for common materials\n- **Improved time units**: Microseconds internally, milliseconds for display\n- **Better chi-squared formatting**: 2 sig figs or scientific notation\n\nWe'll walk through a complete workflow from data loading to material analysis."
  },
  {
   "cell_type": "code",
   "execution_count": null,
   "metadata": {},
   "outputs": [],
   "source": "import numpy as np\nimport matplotlib.pyplot as plt\nfrom frame_overlap import Data, Reconstruct, Analysis, ParametricScan, Model\n\n# Set up plotting\n# plt.style.use('default')\n%matplotlib inline"
  },
  {
   "cell_type": "markdown",
   "metadata": {},
   "source": [
    "## 1. Data Loading and Processing\n",
    "\n",
    "First, let's load neutron ToF data. The `Data` class handles both signal and openbeam files."
   ]
  },
  {
   "cell_type": "code",
   "execution_count": null,
   "metadata": {},
   "outputs": [],
   "source": "# Load data from CSV files\ndata = Data(signal_file='iron_powder.csv',\n            openbeam_file='openbeam.csv',\n            flux=1e6,           # neutrons/cm²/s\n            duration=1.0,       # hours\n            freq=20,            # Hz\n            threshold=0)        # filter stacks < threshold\n\nprint(data)\nprint(f\"\\nLoaded {len(data.table)} data points\")\nprint(f\"Time range: {data.table['time'].min():.1f} - {data.table['time'].max():.1f} µs\")"
  },
  {
   "cell_type": "markdown",
   "metadata": {},
   "source": [
    "### Visualize the raw data"
   ]
  },
  {
   "cell_type": "code",
   "execution_count": null,
   "metadata": {},
   "outputs": [],
   "source": [
    "# Plot signal\n",
    "fig = data.plot()\n",
    "plt.show()\n"
   ]
  },
  {
   "cell_type": "markdown",
   "metadata": {},
   "source": [
    "## 2. Instrument Response Convolution\n",
    "\n",
    "Simulate the effect of measuring with an instrument that has a finite pulse duration."
   ]
  },
  {
   "cell_type": "code",
   "execution_count": null,
   "metadata": {},
   "outputs": [],
   "source": [
    "# Apply square response convolution (200 µs pulse)\n",
    "data.convolute_response(pulse_duration=200)\n",
    "\n",
    "print(\"Convolution applied\")\n",
    "print(f\"Data shape: {data.table.shape}\")"
   ]
  },
  {
   "cell_type": "code",
   "execution_count": null,
   "metadata": {},
   "outputs": [],
   "source": [
    "data.plot(show_stages=True,show_errors=False);"
   ]
  },
  {
   "cell_type": "markdown",
   "metadata": {},
   "source": [
    "## 3. Frame Overlap Creation\n",
    "\n",
    "Create overlapping frames with a custom time sequence. The sequence `[0, 12, 10, 25]` means:\n",
    "- Frame 1 starts at t = 0 ms\n",
    "- Frame 2 starts at t = 12 ms\n",
    "- Frame 3 starts at t = 12 + 10 = 22 ms\n",
    "- Frame 4 starts at t = 22 + 25 = 47 ms"
   ]
  },
  {
   "cell_type": "code",
   "execution_count": null,
   "metadata": {},
   "outputs": [],
   "source": "# Create frame overlap using 'kernel' parameter (renamed from 'seq')\ndata.overlap(kernel=[0, 12, 10, 25], total_time=50)\n\nprint(f\"Frame overlap created with kernel: {data.kernel}\")\nprint(f\"New data length: {len(data.table)}\")\n\n# Plot overlapped data\nfig = data.plot(kind=\"transmission\")\nplt.title('Data after Frame Overlap')"
  },
  {
   "cell_type": "code",
   "execution_count": null,
   "metadata": {},
   "outputs": [],
   "source": [
    "data.kernel"
   ]
  },
  {
   "cell_type": "markdown",
   "metadata": {},
   "source": [
    "## 4. Poisson Sampling\n",
    "\n",
    "Apply Poisson counting statistics to simulate realistic measurement conditions."
   ]
  },
  {
   "cell_type": "code",
   "execution_count": null,
   "metadata": {},
   "outputs": [],
   "source": "# Apply Poisson sampling - can use duty_cycle OR instrument parameters\n# Using instrument parameters (automatic duty cycle calculation):\ndata.poisson_sample(flux=5e6, measurement_time=24, freq=20)\n\n# Plot final processed data\nfig = data.plot(kind=\"transmission\", show_stages=False, show_errors=False)\nplt.title('Data after Poisson Sampling')\nplt.show()"
  },
  {
   "cell_type": "markdown",
   "metadata": {},
   "source": [
    "## 5. Signal Reconstruction\n",
    "\n",
    "Now we'll use the `Reconstruct` class to deconvolve the overlapped frames and recover the original signal."
   ]
  },
  {
   "cell_type": "code",
   "execution_count": null,
   "metadata": {},
   "outputs": [],
   "source": [
    "data.kernel"
   ]
  },
  {
   "cell_type": "code",
   "execution_count": null,
   "metadata": {},
   "outputs": [],
   "source": "# Create Reconstruct object\nrecon = Reconstruct(data)\n\n# Apply Wiener filter (or 'lucy', 'tikhonov')\nrecon.filter(kind='wiener', noise_power=0.01)\n\nprint(\"Reconstruction complete\")\nprint(f\"\\nReconstruction Statistics:\")\nfor key, value in recon.get_statistics().items():\n    if isinstance(value, float):\n        print(f\"  {key}: {value:.4f}\")\n    else:\n        print(f\"  {key}: {value}\")\n        \n# Note: recon.reconstructed_data is now the standard name (was reconstructed_table)"
  },
  {
   "cell_type": "markdown",
   "metadata": {},
   "source": "### NEW: Visualize reconstruction with two-subplot layout\n\nThe new plotting system shows data on top and residuals (in sigma units) on bottom!"
  },
  {
   "cell_type": "code",
   "execution_count": null,
   "metadata": {},
   "outputs": [],
   "source": [
    "data.poissoned_data.plot(x=\"time\",y=\"counts\")\n",
    "recon.reconstructed_data.plot(x=\"time\",y=\"counts\",ax=gca(),logy=True,ylim=(1e4,1e8))"
   ]
  },
  {
   "cell_type": "code",
   "source": "# Custom y-limits and colors for both plots\nfig = recon.plot(\n    kind='transmission',\n    ylim=(0, 1),              # Data plot y-limits\n    residual_ylim=(-5, 5),    # Residual plot y-limits\n    color='indianred',         # Data plot color\n    residual_color='navy',     # Residual plot color\n    figsize=(10, 8)\n)\nplt.show()\n\n# Adjust height ratio of residual plot\nfig = recon.plot(\n    kind='signal',\n    residual_height_ratio=0.4,  # Make residuals taller (default: 0.3)\n    fontsize=14\n)\nplt.show()",
   "metadata": {},
   "execution_count": null,
   "outputs": []
  },
  {
   "cell_type": "code",
   "source": "# Use predefined cross-section models\ntry:\n    # Method 1: Predefined models\n    model = Model(xs='iron_with_cellulose', vary_weights=True, vary_background=True)\n    print(\"Model created with predefined 'iron_with_cellulose' cross-section\")\n    print(model)\n    \n    # Fit the model to reconstructed data\n    # result = model.fit(recon)\n    # result.plot()\n    \nexcept ImportError:\n    print(\"nbragg not installed. Model class requires nbragg package.\")\n    print(\"Install with: pip install nbragg\")\n    \n# Alternative: Use nbragg directly\n# import nbragg\n# xs = nbragg.CrossSection(\n#     iron=nbragg.materials[\"Fe_sg225_Iron-gamma\"],\n#     cellulose=nbragg.materials[\"C6H10O5_Cellulose\"]\n# )\n# model = Model(xs=xs, vary_background=True)\n# result = model.fit(recon)",
   "metadata": {},
   "execution_count": null,
   "outputs": []
  },
  {
   "cell_type": "markdown",
   "source": "### NEW: Simplified Model Class\n\nThe new `Model` class provides an easy interface to nbragg with predefined cross-sections!",
   "metadata": {}
  },
  {
   "cell_type": "code",
   "source": "# Check that recon.table is available for nbragg\nprint(\"nbragg compatibility check:\")\nprint(f\"  recon.table is available: {recon.table is not None}\")\nprint(f\"  recon.table shape: {recon.table.shape}\")\nprint(f\"  recon.table columns: {list(recon.table.columns)}\")\nprint(f\"\\nFirst few rows:\")\nprint(recon.table.head())\n\n# Now you can use recon directly with nbragg:\n# import nbragg\n# xs = nbragg.CrossSection(iron=nbragg.materials[\"Fe_sg225_Iron-gamma\"])\n# result = nbragg.TransmissionModel(xs).fit(recon)  # Works!",
   "metadata": {},
   "execution_count": null,
   "outputs": []
  },
  {
   "cell_type": "markdown",
   "source": "## NEW: Direct nbragg Integration\n\nThe Reconstruct object now has a `table` property that makes it compatible with nbragg!",
   "metadata": {}
  },
  {
   "cell_type": "markdown",
   "source": "### NEW: Advanced Plot Customization\n\nSeparate kwargs for data and residual plots using the `residual_` prefix!",
   "metadata": {}
  },
  {
   "cell_type": "markdown",
   "metadata": {},
   "source": [
    "## 6. Material Analysis\n",
    "\n",
    "Fit the reconstructed data to extract material parameters like thickness and composition."
   ]
  },
  {
   "cell_type": "code",
   "execution_count": null,
   "metadata": {},
   "outputs": [],
   "source": [
    "# Create Analysis object\n",
    "analysis = Analysis(recon)\n",
    "\n",
    "# Set material composition (default is Fe-alpha + 4% Cellulose)\n",
    "analysis.set_cross_section(['Fe_alpha', 'Cellulose'], [0.96, 0.04])\n",
    "\n",
    "# Fit with square response function\n",
    "try:\n",
    "    analysis.fit(response='square')\n",
    "    \n",
    "    # Print fit report\n",
    "    print(analysis.get_fit_report())\n",
    "except Exception as e:\n",
    "    print(f\"Fitting failed: {e}\")\n",
    "    print(\"This can happen with random test data\")\n",
    "analysis"
   ]
  },
  {
   "cell_type": "markdown",
   "metadata": {},
   "source": [
    "### Visualize fit results"
   ]
  },
  {
   "cell_type": "code",
   "execution_count": null,
   "metadata": {},
   "outputs": [],
   "source": "# Complete workflow in a chained style\ndata_chain = (Data(signal_file='iron_powder.csv', threshold=30)\n              .convolute_response(pulse_duration=200)\n              .overlap(kernel=[0, 12, 10, 25])  # Note: 'kernel' parameter (was 'seq')\n              .poisson_sample(duty_cycle=0.8))\n\nprint(\"Data processing complete via method chaining\")\nprint(data_chain)\n\n# Continue with reconstruction\nrecon_chain = Reconstruct(data_chain).filter(kind='wiener', noise_power=0.01)\n\n# Format chi2 nicely\nchi2_val = recon_chain.statistics.get('chi2_per_dof', None)\nchi2_formatted = recon_chain._format_chi2(chi2_val)\nprint(f\"\\nReconstruction χ²/dof: {chi2_formatted}\")"
  },
  {
   "cell_type": "markdown",
   "metadata": {},
   "source": "## Summary\n\nThis tutorial covered:\n\n1. **Data Loading**: Loading signal and openbeam ToF data with proper units (µs internally, ms for display)\n2. **Convolution**: Applying instrument response functions (pulse_duration in µs)\n3. **Frame Overlap**: Creating overlapping frame sequences using `kernel` parameter\n4. **Poisson Sampling**: Simulating counting statistics (duty_cycle or instrument parameters)\n5. **Reconstruction**: Deconvolving signals with multiple methods (Wiener, Lucy-Richardson, Tikhonov)\n6. **NEW: Enhanced Plotting**: Two-subplot layout with data + residuals in sigma units\n7. **NEW: Plot Customization**: Separate kwargs for data and residual plots\n8. **NEW: nbragg Integration**: Direct compatibility via `recon.table` property\n9. **NEW: Model Class**: Simplified fitting with predefined cross-sections\n10. **Analysis**: Fitting for material parameters (legacy Analysis class)\n11. **Parametric Scans**: Exploring parameter sensitivity\n12. **Method Chaining**: Concise workflow syntax\n\n## Key API Changes in v0.2.0:\n\n- `seq` → `kernel` (overlap method parameter)\n- `reconstructed_table` → `reconstructed_data` (consistent naming)\n- `reference_table` → `reference_data` (consistent naming)\n- New `recon.table` property for nbragg compatibility\n- New `Model` class for simplified nbragg integration\n- Plot residuals are now in sigma units: `(reconstructed - poisson) / poisson_err`\n- Chi-squared formatted with 2 sig figs or scientific notation\n- Time stored in microseconds, displayed in milliseconds\n\n## Predefined Model Cross-Sections:\n\n- `'iron_with_cellulose'`: Iron with cellulose background\n- `'iron_square_response'`: Iron with square response function\n\nThe new v0.2.0 API provides a clean, intuitive interface for neutron ToF frame overlap analysis with physicist-friendly features!\n\n## Additional Resources\n\n- Documentation: See README.md for complete API reference\n- Legacy API: The v0.1.0 functional API remains available for backward compatibility\n- Source code: https://github.com/TsvikiHirsh/frame_overlap\n- nbragg package: https://github.com/neutronimaging/nbragg"
  },
  {
   "cell_type": "code",
   "execution_count": null,
   "metadata": {},
   "outputs": [],
   "source": [
    "# Load fresh data for scanning\n",
    "scan_data = Data(signal_file='iron_powder.csv', threshold=30)\n",
    "\n",
    "# Create parametric scan\n",
    "scan = ParametricScan(scan_data)\n",
    "\n",
    "# Add parameters to scan\n",
    "scan.add_parameter('pulse_duration', [100, 200, 300])\n",
    "scan.add_parameter('n_frames', [2, 3, 4])\n",
    "\n",
    "print(\"Running parametric scan...\")\n",
    "print(f\"Total combinations: {3 * 3} = 9\")\n",
    "\n",
    "# Run scan (may take a minute)\n",
    "try:\n",
    "    scan.run(verbose=True)\n",
    "    \n",
    "    # Get results\n",
    "    results = scan.get_results()\n",
    "    print(f\"\\nSuccessful runs: {len(results)} / 9\")\n",
    "    print(\"\\nSample results:\")\n",
    "    print(results[['pulse_duration', 'n_frames', 'recon_r_squared', 'fit_thickness']].head())\n",
    "except Exception as e:\n",
    "    print(f\"Scan failed: {e}\")"
   ]
  },
  {
   "cell_type": "markdown",
   "metadata": {},
   "source": [
    "### Visualize scan results"
   ]
  },
  {
   "cell_type": "code",
   "execution_count": null,
   "metadata": {},
   "outputs": [],
   "source": [
    "try:\n",
    "    # Parameter sensitivity plot\n",
    "    fig = scan.plot_parameter_sensitivity('pulse_duration', 'recon_r_squared', groupby='n_frames')\n",
    "    plt.show()\n",
    "    \n",
    "    # 2D heatmap\n",
    "    fig = scan.plot_heatmap('pulse_duration', 'n_frames', 'fit_thickness')\n",
    "    plt.show()\n",
    "    \n",
    "    # Summary statistics\n",
    "    fig = scan.plot_summary()\n",
    "    plt.show()\n",
    "except Exception as e:\n",
    "    print(f\"Plotting failed: {e}\")"
   ]
  },
  {
   "cell_type": "markdown",
   "metadata": {},
   "source": [
    "## 8. Method Chaining Example\n",
    "\n",
    "The new API supports fluent method chaining for concise workflows."
   ]
  },
  {
   "cell_type": "code",
   "execution_count": null,
   "metadata": {},
   "outputs": [],
   "source": [
    "# Complete workflow in a chained style\n",
    "data_chain = (Data(signal_file='iron_powder.csv', threshold=30)\n",
    "              .convolute_response(pulse_duration=200)\n",
    "              .overlap(seq=[0, 12, 10, 25])\n",
    "              .poisson_sample(duty_cycle=0.8))\n",
    "\n",
    "print(\"Data processing complete via method chaining\")\n",
    "print(data_chain)\n",
    "\n",
    "# Continue with reconstruction\n",
    "recon_chain = Reconstruct(data_chain).filter(kind='wiener', noise_power=0.01)\n",
    "print(f\"\\nReconstruction χ²/dof: {recon_chain.statistics.get('chi2_per_dof', 'N/A')}\")"
   ]
  },
  {
   "cell_type": "markdown",
   "metadata": {},
   "source": [
    "## Summary\n",
    "\n",
    "This tutorial covered:\n",
    "\n",
    "1. **Data Loading**: Loading signal and openbeam ToF data\n",
    "2. **Convolution**: Applying instrument response functions\n",
    "3. **Frame Overlap**: Creating overlapping frame sequences\n",
    "4. **Poisson Sampling**: Simulating counting statistics\n",
    "5. **Reconstruction**: Deconvolving signals with multiple methods\n",
    "6. **Analysis**: Fitting for material parameters\n",
    "7. **Parametric Scans**: Exploring parameter sensitivity\n",
    "8. **Method Chaining**: Concise workflow syntax\n",
    "\n",
    "The new v0.2.0 API provides a clean, intuitive interface for neutron ToF frame overlap analysis!\n",
    "\n",
    "## Additional Resources\n",
    "\n",
    "- Documentation: See README.md for complete API reference\n",
    "- Legacy API: The v0.1.0 functional API remains available for backward compatibility\n",
    "- Source code: https://github.com/TsvikiHirsh/frame_overlap"
   ]
  }
 ],
 "metadata": {
  "kernelspec": {
   "display_name": "Python 3 (ipykernel)",
   "language": "python",
   "name": "python3"
  },
  "language_info": {
   "codemirror_mode": {
    "name": "ipython",
    "version": 3
   },
   "file_extension": ".py",
   "mimetype": "text/x-python",
   "name": "python",
   "nbconvert_exporter": "python",
   "pygments_lexer": "ipython3",
   "version": "3.13.3"
  }
 },
 "nbformat": 4,
 "nbformat_minor": 4
}