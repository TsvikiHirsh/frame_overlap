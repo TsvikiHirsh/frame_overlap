{
 "cells": [
  {
   "cell_type": "markdown",
   "metadata": {},
   "source": [
    "# Example 4: Comparing Reconstruction Methods\n",
    "\n",
    "This example compares different deconvolution methods: Wiener, Lucy-Richardson, and Tikhonov."
   ]
  },
  {
   "cell_type": "code",
   "execution_count": null,
   "metadata": {},
   "outputs": [],
   "source": [
    "import matplotlib.pyplot as plt\n",
    "import numpy as np\n",
    "from frame_overlap import Workflow\n",
    "\n",
    "%matplotlib inline"
   ]
  },
  {
   "cell_type": "markdown",
   "metadata": {},
   "source": [
    "## Wiener Filter"
   ]
  },
  {
   "cell_type": "code",
   "execution_count": null,
   "metadata": {},
   "outputs": [],
   "source": [
    "wf_wiener = Workflow('iron_powder.csv', 'openbeam.csv', flux=5e6, duration=0.5, freq=20)\n",
    "\n",
    "(wf_wiener\n",
    "    .convolute(pulse_duration=200)\n",
    "    .poisson(flux=1e6, freq=60, measurement_time=30)\n",
    "    .overlap(kernel=[0, 25])\n",
    "    .reconstruct(kind='wiener', noise_power=0.01))\n",
    "\n",
    "stats_wiener = wf_wiener.recon.get_statistics()\n",
    "print(\"Wiener Filter:\")\n",
    "print(f\"  χ²/dof: {stats_wiener['chi2_per_dof']:.2f}\")\n",
    "print(f\"  RMSE: {stats_wiener['rmse']:.2e}\")\n",
    "print(f\"  MAE: {stats_wiener['mae']:.2e}\")"
   ]
  },
  {
   "cell_type": "markdown",
   "metadata": {},
   "source": [
    "## Lucy-Richardson Algorithm"
   ]
  },
  {
   "cell_type": "code",
   "execution_count": null,
   "metadata": {},
   "outputs": [],
   "source": [
    "wf_lucy = Workflow('iron_powder.csv', 'openbeam.csv', flux=5e6, duration=0.5, freq=20)\n",
    "\n",
    "(wf_lucy\n",
    "    .convolute(pulse_duration=200)\n",
    "    .poisson(flux=1e6, freq=60, measurement_time=30)\n",
    "    .overlap(kernel=[0, 25])\n",
    "    .reconstruct(kind='lucy', iterations=20))\n",
    "\n",
    "stats_lucy = wf_lucy.recon.get_statistics()\n",
    "print(\"\\nLucy-Richardson:\")\n",
    "print(f\"  χ²/dof: {stats_lucy['chi2_per_dof']:.2f}\")\n",
    "print(f\"  RMSE: {stats_lucy['rmse']:.2e}\")\n",
    "print(f\"  MAE: {stats_lucy['mae']:.2e}\")"
   ]
  },
  {
   "cell_type": "markdown",
   "metadata": {},
   "source": [
    "## Tikhonov Regularization"
   ]
  },
  {
   "cell_type": "code",
   "execution_count": null,
   "metadata": {},
   "outputs": [],
   "source": [
    "wf_tikhonov = Workflow('iron_powder.csv', 'openbeam.csv', flux=5e6, duration=0.5, freq=20)\n",
    "\n",
    "(wf_tikhonov\n",
    "    .convolute(pulse_duration=200)\n",
    "    .poisson(flux=1e6, freq=60, measurement_time=30)\n",
    "    .overlap(kernel=[0, 25])\n",
    "    .reconstruct(kind='tikhonov', noise_power=0.01))\n",
    "\n",
    "stats_tikhonov = wf_tikhonov.recon.get_statistics()\n",
    "print(\"\\nTikhonov:\")\n",
    "print(f\"  χ²/dof: {stats_tikhonov['chi2_per_dof']:.2f}\")\n",
    "print(f\"  RMSE: {stats_tikhonov['rmse']:.2e}\")\n",
    "print(f\"  MAE: {stats_tikhonov['mae']:.2e}\")"
   ]
  },
  {
   "cell_type": "markdown",
   "metadata": {},
   "source": [
    "## Visual Comparison"
   ]
  },
  {
   "cell_type": "code",
   "execution_count": null,
   "metadata": {},
   "outputs": [],
   "source": [
    "fig, axes = plt.subplots(3, 1, figsize=(12, 10))\n",
    "\n",
    "methods = [\n",
    "    ('Wiener', wf_wiener, 'blue'),\n",
    "    ('Lucy-Richardson', wf_lucy, 'orange'),\n",
    "    ('Tikhonov', wf_tikhonov, 'green')\n",
    "]\n",
    "\n",
    "for ax, (name, wf, color) in zip(axes, methods):\n",
    "    # Get data\n",
    "    time_ms = wf.recon.reference_data['time'] / 1000\n",
    "    reference = wf.recon.reference_data['counts']\n",
    "    reconstructed = wf.recon.reconstructed_data['counts']\n",
    "    \n",
    "    # Plot\n",
    "    ax.plot(time_ms, reference, 'k-', label='Target', linewidth=2, alpha=0.7)\n",
    "    ax.plot(time_ms, reconstructed, color=color, label='Reconstructed', \n",
    "            linewidth=1.5, linestyle='--')\n",
    "    \n",
    "    stats = wf.recon.get_statistics()\n",
    "    ax.set_title(f\"{name} (χ²/dof={stats['chi2_per_dof']:.2f})\")\n",
    "    ax.set_xlabel('Time (ms)')\n",
    "    ax.set_ylabel('Counts')\n",
    "    ax.legend()\n",
    "    ax.grid(True, alpha=0.3)\n",
    "    ax.set_xlim(0, 50)\n",
    "\n",
    "plt.tight_layout()\n",
    "plt.show()"
   ]
  },
  {
   "cell_type": "markdown",
   "metadata": {},
   "source": [
    "## Quantitative Comparison"
   ]
  },
  {
   "cell_type": "code",
   "execution_count": null,
   "metadata": {},
   "outputs": [],
   "source": [
    "import pandas as pd\n",
    "\n",
    "comparison = pd.DataFrame([\n",
    "    {'Method': 'Wiener', **stats_wiener},\n",
    "    {'Method': 'Lucy-Richardson', **stats_lucy},\n",
    "    {'Method': 'Tikhonov', **stats_tikhonov}\n",
    "])\n",
    "\n",
    "print(\"\\nMethod Comparison:\")\n",
    "print(comparison[['Method', 'chi2_per_dof', 'rmse', 'mae', 'max_abs_error']].to_string(index=False))\n",
    "\n",
    "# Plot comparison\n",
    "fig, axes = plt.subplots(1, 3, figsize=(15, 4))\n",
    "\n",
    "metrics = ['chi2_per_dof', 'rmse', 'mae']\n",
    "titles = ['χ²/dof (lower is better)', 'RMSE', 'MAE']\n",
    "\n",
    "for ax, metric, title in zip(axes, metrics, titles):\n",
    "    comparison.plot(x='Method', y=metric, kind='bar', ax=ax, legend=False)\n",
    "    ax.set_title(title)\n",
    "    ax.set_xlabel('')\n",
    "    ax.set_ylabel(metric)\n",
    "    ax.grid(True, alpha=0.3, axis='y')\n",
    "    plt.setp(ax.xaxis.get_majorticklabels(), rotation=45, ha='right')\n",
    "\n",
    "plt.tight_layout()\n",
    "plt.show()"
   ]
  },
  {
   "cell_type": "markdown",
   "metadata": {},
   "source": [
    "## Optimize Each Method\n",
    "\n",
    "Find optimal parameters for each reconstruction method."
   ]
  },
  {
   "cell_type": "code",
   "execution_count": null,
   "metadata": {},
   "outputs": [],
   "source": [
    "# Optimize Wiener noise_power\n",
    "print(\"Optimizing Wiener filter...\")\n",
    "wiener_sweep = (Workflow('iron_powder.csv', 'openbeam.csv', flux=5e6, duration=0.5, freq=20)\n",
    "    .convolute(pulse_duration=200)\n",
    "    .poisson(flux=1e6, freq=60, measurement_time=30)\n",
    "    .overlap(kernel=[0, 25])\n",
    "    .groupby('noise_power', low=0.001, high=0.1, num=10)\n",
    "    .reconstruct(kind='wiener')\n",
    "    .analyze(xs='iron', vary_background=True, vary_response=True)\n",
    "    .run())\n",
    "\n",
    "wiener_clean = wiener_sweep.dropna(subset=['redchi2'])\n",
    "best_wiener = wiener_clean.loc[wiener_clean['redchi2'].idxmin()]\n",
    "print(f\"  Best noise_power: {best_wiener['noise_power']:.4f}\")\n",
    "print(f\"  χ²/dof: {best_wiener['redchi2']:.2f}\")\n",
    "\n",
    "# Note: Lucy-Richardson uses iterations, Tikhonov uses noise_power\n",
    "# You could similarly sweep these parameters"
   ]
  },
  {
   "cell_type": "markdown",
   "metadata": {},
   "source": [
    "## Residuals Comparison"
   ]
  },
  {
   "cell_type": "code",
   "execution_count": null,
   "metadata": {},
   "outputs": [],
   "source": [
    "fig, axes = plt.subplots(3, 1, figsize=(12, 10), sharex=True)\n",
    "\n",
    "for ax, (name, wf, color) in zip(axes, methods):\n",
    "    time_ms = wf.recon.reference_data['time'] / 1000\n",
    "    reference = wf.recon.reference_data['counts']\n",
    "    reconstructed = wf.recon.reconstructed_data['counts']\n",
    "    errors = wf.recon.reference_data['err']\n",
    "    \n",
    "    # Calculate residuals in sigma units\n",
    "    residuals = (reference - reconstructed) / np.maximum(errors, 1e-10)\n",
    "    \n",
    "    ax.plot(time_ms, residuals, color=color, alpha=0.7)\n",
    "    ax.axhline(0, color='black', linestyle='-', linewidth=0.8)\n",
    "    ax.axhline(2, color='gray', linestyle='--', alpha=0.5)\n",
    "    ax.axhline(-2, color='gray', linestyle='--', alpha=0.5)\n",
    "    \n",
    "    ax.set_title(f\"{name} Residuals\")\n",
    "    ax.set_ylabel('Residuals (σ)')\n",
    "    ax.grid(True, alpha=0.3)\n",
    "    ax.set_xlim(0, 50)\n",
    "\n",
    "axes[-1].set_xlabel('Time (ms)')\n",
    "plt.tight_layout()\n",
    "plt.show()"
   ]
  },
  {
   "cell_type": "markdown",
   "metadata": {},
   "source": [
    "## Key Takeaways\n",
    "\n",
    "**Wiener Filter**:\n",
    "- Fast and simple\n",
    "- Parameter: `noise_power` (balance between denoising and sharpness)\n",
    "- Good general-purpose choice\n",
    "\n",
    "**Lucy-Richardson**:\n",
    "- Iterative method\n",
    "- Parameter: `iterations` (more = sharper, but can amplify noise)\n",
    "- Good for positive-valued data\n",
    "\n",
    "**Tikhonov**:\n",
    "- Regularization approach\n",
    "- Parameter: `noise_power` (regularization strength)\n",
    "- Smoother results, good for noisy data\n",
    "\n",
    "**Choosing a Method**:\n",
    "- Compare χ²/dof, RMSE, and residual patterns\n",
    "- Optimize parameters for each method\n",
    "- Consider computational cost vs quality trade-off"
   ]
  }
 ],
 "metadata": {
  "kernelspec": {
   "display_name": "Python 3",
   "language": "python",
   "name": "python3"
  },
  "language_info": {
   "name": "python",
   "version": "3.9.0"
  }
 },
 "nbformat": 4,
 "nbformat_minor": 4
}
