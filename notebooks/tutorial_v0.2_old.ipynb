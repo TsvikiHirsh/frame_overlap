{
 "cells": [
  {
   "cell_type": "markdown",
   "metadata": {},
   "source": [
    "# Frame Overlap Tutorial (v0.2.0)\n",
    "\n",
    "This tutorial demonstrates the new object-oriented API introduced in version 0.2.0 for analyzing neutron Time-of-Flight frame overlap data.\n",
    "\n",
    "## Overview\n",
    "\n",
    "The frame_overlap package provides four main classes:\n",
    "\n",
    "1. **Data**: Load and process ToF data with convolution, frame overlap, and Poisson sampling\n",
    "2. **Reconstruct**: Apply deconvolution filters to reconstruct original signals\n",
    "3. **Analysis**: Simplified nbragg integration for transmission fitting (NEW!)\n",
    "4. **ParametricScan**: Perform parametric scans over processing parameters\n",
    "\n",
    "## NEW Correct Workflow Order (v0.2+):\n",
    "\n",
    "```\n",
    "Data → Poisson → Convolute → Overlap → Reconstruct → Analysis\n",
    "        ↓          ↓           ↓          ↓           ↓\n",
    "      Add noise  Instrument  Frame ops  Recover     Fit with\n",
    "     (statistics) response               signal      nbragg\n",
    "```\n",
    "\n",
    "**IMPORTANT CHANGE**: Poisson sampling now comes FIRST (right after loading), not last!\n",
    "\n",
    "**Why this order?**\n",
    "- **Poisson FIRST** ensures matching statistics between reference and reconstructed data\n",
    "- When duty_cycle ≠ 1, the old order caused height mismatches in chi²\n",
    "- Convolution = instrument response (can't be undone)\n",
    "- Overlap = mathematical operation (can be undone via deconvolution)\n",
    "- Reconstruction recovers **poissoned+convolved** signal (before overlap)\n",
    "\n",
    "**Optional**: Use `poisson_seed` in `overlap()` to add randomness to the overlapped signal\n",
    "\n",
    "## New Features in v0.2.0:\n",
    "- **NEW WORKFLOW**: Poisson sampling moved to first stage\n",
    "- **tmin/tmax filtering**: Chi² calculated on specified wavelength/time range\n",
    "- **Vertical indicators**: Show tmin/tmax range on plots\n",
    "- **Two-subplot plotting**: Data + residuals in sigma units  \n",
    "- **Enhanced customization**: Separate kwargs for data and residual plots  \n",
    "- **nbragg integration**: `recon.to_nbragg()` method for proper wavelength conversion\n",
    "- **Analysis class**: Simplified nbragg interface with predefined cross-sections\n",
    "- **Noise optimization**: `recon.optimize_noise()` using lmfit\n",
    "- **Better chi² formatting**: 2 sig figs or scientific notation"
   ]
  },
  {
   "cell_type": "code",
   "execution_count": 2,
   "metadata": {},
   "outputs": [],
   "source": [
    "import numpy as np\n",
    "import matplotlib.pyplot as plt\n",
    "from frame_overlap import Data, Reconstruct, Analysis, ParametricScan, Analysis\n",
    "\n",
    "# Set up plotting\n",
    "# plt.style.use('default')\n",
    "%matplotlib inline"
   ]
  },
  {
   "cell_type": "markdown",
   "metadata": {},
   "source": [
    "## 1. Data Loading and Processing\n",
    "\n",
    "First, let's load neutron ToF data. The `Data` class handles both signal and openbeam files."
   ]
  },
  {
   "cell_type": "code",
   "execution_count": null,
   "metadata": {},
   "outputs": [],
   "source": [
    "# Load data from CSV files\n",
    "data = Data(signal_file='iron_powder.csv',\n",
    "            openbeam_file='openbeam.csv',\n",
    "            flux=1e6,           # neutrons/cm²/s\n",
    "            duration=1.0,       # hours\n",
    "            freq=20,            # Hz\n",
    "            threshold=0)        # filter stacks < threshold\n",
    "\n",
    "print(data)\n",
    "print(f\"\\nLoaded {len(data.table)} data points\")\n",
    "print(f\"Time range: {data.table['time'].min():.1f} - {data.table['time'].max():.1f} µs\")"
   ]
  },
  {
   "cell_type": "markdown",
   "metadata": {},
   "source": [
    "### Visualize the raw data"
   ]
  },
  {
   "cell_type": "code",
   "execution_count": null,
   "metadata": {},
   "outputs": [],
   "source": [
    "# Plot signal\n",
    "fig = data.plot()\n",
    "plt.show()\n"
   ]
  },
  {
   "cell_type": "code",
   "execution_count": null,
   "metadata": {},
   "outputs": [],
   "source": [
    "## 3. Instrument Response Convolution\n",
    "\n",
    "Simulate the effect of measuring with an instrument that has a finite pulse duration."
   ]
  },
  {
   "cell_type": "markdown",
   "metadata": {},
   "source": [
    "## 2. Poisson Sampling (NEW: FIRST STAGE!)\n",
    "\n",
    "**NEW WORKFLOW**: Apply Poisson sampling RIGHT AFTER loading data, before convolution and overlap. This ensures proper statistics matching between reference and reconstructed data."
   ]
  },
  {
   "cell_type": "markdown",
   "metadata": {},
   "source": [
    "## 2. Instrument Response Convolution\n",
    "\n",
    "Simulate the effect of measuring with an instrument that has a finite pulse duration."
   ]
  },
  {
   "cell_type": "code",
   "execution_count": null,
   "metadata": {},
   "outputs": [],
   "source": [
    "## 4. Frame Overlap Creation\n",
    "\n",
    "Create overlapping frames with a custom time sequence. The sequence `[0, 25]` means:\n",
    "- Frame 1 starts at t = 0 ms\n",
    "- Frame 2 starts at t = 25 ms\n",
    "\n",
    "**Optional**: Use `poisson_seed` parameter to add randomness to the overlapped signal with duty_cycle=1.0"
   ]
  },
  {
   "cell_type": "code",
   "execution_count": null,
   "metadata": {},
   "outputs": [],
   "source": [
    "data.plot(show_stages=True,show_errors=False);"
   ]
  },
  {
   "cell_type": "markdown",
   "metadata": {},
   "source": [
    "## 3. Frame Overlap Creation\n",
    "\n",
    "Create overlapping frames with a custom time sequence. The sequence `[0, 12, 10, 25]` means:\n",
    "- Frame 1 starts at t = 0 ms\n",
    "- Frame 2 starts at t = 12 ms\n",
    "- Frame 3 starts at t = 12 + 10 = 22 ms\n",
    "- Frame 4 starts at t = 22 + 25 = 47 ms"
   ]
  },
  {
   "cell_type": "code",
   "execution_count": null,
   "metadata": {},
   "outputs": [],
   "source": [
    "data.kernel"
   ]
  },
  {
   "cell_type": "code",
   "execution_count": null,
   "metadata": {},
   "outputs": [],
   "source": [
    "# Apply Poisson sampling AFTER overlap\n",
    "# You can use duty_cycle or instrument parameters\n",
    "data.poisson_sample(flux=1e6, measurement_time=1.0, freq=20)\n",
    "\n",
    "# Plot final processed data\n",
    "fig = data.plot(kind=\"transmission\", show_errors=False)\n",
    "plt.title('Data after Poisson Sampling (final overlapped+noisy data)')\n",
    "plt.show()"
   ]
  },
  {
   "cell_type": "markdown",
   "metadata": {},
   "source": [
    "## 5. Signal Reconstruction\n",
    "\n",
    "The `Reconstruct` class applies deconvolution to recover the poissoned+convolved signal (before overlap).\n",
    "\n",
    "**What we're recovering**: The signal after Poisson+convolution but BEFORE overlap (this is stored as `reference_data`)\n",
    "\n",
    "**NEW**: You can specify `tmin` and `tmax` (in ms) to calculate chi² only on a specific time/wavelength range!"
   ]
  },
  {
   "cell_type": "code",
   "execution_count": null,
   "metadata": {},
   "outputs": [],
   "source": [
    "data.kernel"
   ]
  },
  {
   "cell_type": "code",
   "execution_count": null,
   "metadata": {},
   "outputs": [],
   "source": [
    "# Create Reconstruct object with optional tmin/tmax for chi2 filtering\n",
    "# Example: recon = Reconstruct(data, tmin=10, tmax=40)  # Only calculate chi2 between 10-40 ms\n",
    "recon = Reconstruct(data)\n",
    "\n",
    "# Apply Wiener filter to recover poissoned+convolved signal\n",
    "# noise_power controls regularization (higher = more smoothing)\n",
    "recon.filter(kind='wiener', noise_power=0.01)\n",
    "\n",
    "print(\"Reconstruction complete!\")\n",
    "print(f\"\\nWhat we recovered: Poissoned+Convolved signal (before overlap)\")\n",
    "print(f\"Reference shape: {recon.reference_data.shape}\")\n",
    "print(f\"Reconstructed shape: {recon.reconstructed_data.shape}\")\n",
    "\n",
    "print(f\"\\nReconstruction Statistics:\")\n",
    "for key, value in recon.get_statistics().items():\n",
    "    if isinstance(value, float):\n",
    "        print(f\"  {key}: {value:.4f}\")\n",
    "    else:\n",
    "        print(f\"  {key}: {value}\")"
   ]
  },
  {
   "cell_type": "markdown",
   "metadata": {},
   "source": [
    "### Visualize Reconstruction Results\n",
    "\n",
    "The new two-subplot layout shows:\n",
    "- **Top**: Poissoned+Convolved (target) vs Reconstructed transmission\n",
    "- **Bottom**: Residuals in sigma units: (reconstructed - target) / target_error\n",
    "\n",
    "**NEW**: If you specified tmin/tmax in Reconstruct(), vertical indicators show the chi² calculation range!"
   ]
  },
  {
   "cell_type": "code",
   "execution_count": null,
   "metadata": {},
   "outputs": [],
   "source": [
    "# Default transmission plot with residuals\n",
    "fig = recon.plot(kind='transmission', show_errors=True)\n",
    "plt.show()\n",
    "\n",
    "# Can also plot signal counts instead of transmission\n",
    "fig = recon.plot(kind='signal', show_errors=True)\n",
    "plt.show()"
   ]
  },
  {
   "cell_type": "code",
   "execution_count": null,
   "metadata": {},
   "outputs": [],
   "source": [
    "# The Model class provides simplified nbragg integration\n",
    "try:\n",
    "    model = Model(xs='iron_square_response', vary_weights=True, vary_background=True)\n",
    "    print(\"Model created successfully!\")\n",
    "    print(model)\n",
    "    print(\"\\nTo fit:\")\n",
    "    print(\"  result = model.fit(recon)\")\n",
    "    print(\"  result.plot()\")\n",
    "except ImportError:\n",
    "    print(\"nbragg not installed\")\n",
    "    print(\"Install with: pip install nbragg\")"
   ]
  },
  {
   "cell_type": "code",
   "execution_count": null,
   "metadata": {},
   "outputs": [],
   "source": [
    "model = Model(xs='iron_square_response', vary_weights=True, vary_background=True)\n",
    "model"
   ]
  },
  {
   "cell_type": "markdown",
   "metadata": {},
   "source": [
    "### NEW: Simplified Model Class\n",
    "\n",
    "The new `Model` class provides an easy interface to nbragg with predefined cross-sections!"
   ]
  },
  {
   "cell_type": "code",
   "execution_count": null,
   "metadata": {},
   "outputs": [],
   "source": [
    "# Check that recon.table is available for nbragg\n",
    "print(\"nbragg compatibility check:\")\n",
    "print(f\"  recon.table is available: {recon.table is not None}\")\n",
    "print(f\"  recon.table shape: {recon.table.shape}\")\n",
    "print(f\"  recon.table columns: {list(recon.table.columns)}\")\n",
    "print(f\"\\nFirst few rows:\")\n",
    "print(recon.table.head())\n",
    "\n",
    "# Now you can use recon directly with nbragg:\n",
    "# import nbragg\n",
    "# xs = nbragg.CrossSection(iron=nbragg.materials[\"Fe_sg225_Iron-gamma\"])\n",
    "# result = nbragg.TransmissionModel(xs).fit(recon)  # Works!"
   ]
  },
  {
   "cell_type": "markdown",
   "metadata": {},
   "source": [
    "### NEW: Advanced Plot Customization\n",
    "\n",
    "Separate kwargs for data and residual plots using the `residual_` prefix!"
   ]
  },
  {
   "cell_type": "code",
   "execution_count": null,
   "metadata": {},
   "outputs": [],
   "source": [
    "# Create Analysis object\n",
    "analysis = Analysis(recon)\n",
    "\n",
    "# Set material composition (default is Fe-alpha + 4% Cellulose)\n",
    "analysis.set_cross_section(['Fe_alpha', 'Cellulose'], [0.96, 0.04])\n",
    "\n",
    "# Fit with square response function\n",
    "try:\n",
    "    analysis.fit(response='square')\n",
    "    \n",
    "    # Print fit report\n",
    "    print(analysis.get_fit_report())\n",
    "except Exception as e:\n",
    "    print(f\"Fitting failed: {e}\")\n",
    "    print(\"This can happen with random test data\")\n",
    "analysis"
   ]
  },
  {
   "cell_type": "markdown",
   "metadata": {},
   "source": [
    "### Visualize fit results"
   ]
  },
  {
   "cell_type": "code",
   "execution_count": null,
   "metadata": {},
   "outputs": [],
   "source": [
    "# Complete workflow in a chained style\n",
    "data_chain = (Data(signal_file='iron_powder.csv', threshold=30)\n",
    "              .convolute_response(pulse_duration=200)\n",
    "              .overlap(kernel=[0, 12, 10, 25])  # Note: 'kernel' parameter (was 'seq')\n",
    "              .poisson_sample(duty_cycle=0.8))\n",
    "\n",
    "print(\"Data processing complete via method chaining\")\n",
    "print(data_chain)\n",
    "\n",
    "# Continue with reconstruction\n",
    "recon_chain = Reconstruct(data_chain).filter(kind='wiener', noise_power=0.01)\n",
    "\n",
    "# Format chi2 nicely\n",
    "chi2_val = recon_chain.statistics.get('chi2_per_dof', None)\n",
    "chi2_formatted = recon_chain._format_chi2(chi2_val)\n",
    "print(f\"\\nReconstruction χ²/dof: {chi2_formatted}\")"
   ]
  },
  {
   "cell_type": "markdown",
   "metadata": {},
   "source": [
    "## Summary\n",
    "\n",
    "This tutorial covered:\n",
    "\n",
    "1. **Data Loading**: Loading signal and openbeam ToF data with proper units (µs internally, ms for display)\n",
    "2. **Convolution**: Applying instrument response functions (pulse_duration in µs)\n",
    "3. **Frame Overlap**: Creating overlapping frame sequences using `kernel` parameter\n",
    "4. **Poisson Sampling**: Simulating counting statistics (duty_cycle or instrument parameters)\n",
    "5. **Reconstruction**: Deconvolving signals with multiple methods (Wiener, Lucy-Richardson, Tikhonov)\n",
    "6. **NEW: Enhanced Plotting**: Two-subplot layout with data + residuals in sigma units\n",
    "7. **NEW: Plot Customization**: Separate kwargs for data and residual plots\n",
    "8. **NEW: nbragg Integration**: Direct compatibility via `recon.table` property\n",
    "9. **NEW: Model Class**: Simplified fitting with predefined cross-sections\n",
    "10. **Analysis**: Fitting for material parameters (legacy Analysis class)\n",
    "11. **Parametric Scans**: Exploring parameter sensitivity\n",
    "12. **Method Chaining**: Concise workflow syntax\n",
    "\n",
    "## Key API Changes in v0.2.0:\n",
    "\n",
    "- `seq` → `kernel` (overlap method parameter)\n",
    "- `reconstructed_table` → `reconstructed_data` (consistent naming)\n",
    "- `reference_table` → `reference_data` (consistent naming)\n",
    "- New `recon.table` property for nbragg compatibility\n",
    "- New `Model` class for simplified nbragg integration\n",
    "- Plot residuals are now in sigma units: `(reconstructed - poisson) / poisson_err`\n",
    "- Chi-squared formatted with 2 sig figs or scientific notation\n",
    "- Time stored in microseconds, displayed in milliseconds\n",
    "\n",
    "## Predefined Model Cross-Sections:\n",
    "\n",
    "- `'iron_with_cellulose'`: Iron with cellulose background\n",
    "- `'iron_square_response'`: Iron with square response function\n",
    "\n",
    "The new v0.2.0 API provides a clean, intuitive interface for neutron ToF frame overlap analysis with physicist-friendly features!\n",
    "\n",
    "## Additional Resources\n",
    "\n",
    "- Documentation: See README.md for complete API reference\n",
    "- Legacy API: The v0.1.0 functional API remains available for backward compatibility\n",
    "- Source code: https://github.com/TsvikiHirsh/frame_overlap\n",
    "- nbragg package: https://github.com/neutronimaging/nbragg"
   ]
  },
  {
   "cell_type": "code",
   "execution_count": null,
   "metadata": {},
   "outputs": [],
   "source": [
    "# Method chaining example with NEW CORRECT order\n",
    "data_chain = (Data(signal_file='iron_powder.csv')\n",
    "              .poisson_sample(duty_cycle=0.8)        # NEW: Poisson FIRST!\n",
    "              .convolute_response(pulse_duration=200)\n",
    "              .overlap(kernel=[0, 25]))              # Overlap AFTER Poisson\n",
    "\n",
    "print(\"Data processing complete via method chaining (NEW ORDER)\")\n",
    "print(data_chain)\n",
    "\n",
    "# Reconstruct with tmin/tmax filtering\n",
    "recon_chain = Reconstruct(data_chain, tmin=10, tmax=40).filter(kind='wiener', noise_power=0.01)\n",
    "chi2_formatted = recon_chain._format_chi2(recon_chain.statistics.get('chi2_per_dof'))\n",
    "print(f\"\\nReconstruction χ²/dof (10-40 ms range): {chi2_formatted}\")"
   ]
  },
  {
   "cell_type": "markdown",
   "metadata": {},
   "source": [
    "## Summary\n",
    "\n",
    "This tutorial demonstrated the complete NEW workflow:\n",
    "\n",
    "**NEW Processing Order**: Data → **Poisson** → Convolute → Overlap → Reconstruct → Analysis\n",
    "\n",
    "**Key Points**:\n",
    "1. **Poisson FIRST** (NEW!) ensures matching statistics between reference and reconstruction\n",
    "2. **Convolution** simulates instrument response (stays in signal)\n",
    "3. **Overlap** creates overlapped frames (what we want to undo)\n",
    "4. **Optional 2nd Poisson** via `overlap(poisson_seed=42)` adds randomness to overlapped signal\n",
    "5. **Reconstruction** recovers poissoned+convolved signal (before overlap)\n",
    "6. **Analysis** fits with nbragg using proper wavelength conversion\n",
    "\n",
    "**NEW v0.2.0 Features**:\n",
    "- **NEW WORKFLOW**: Poisson sampling moved to FIRST stage (after loading)\n",
    "- **tmin/tmax**: Filter chi² calculation to specific time/wavelength range\n",
    "- **Vertical indicators**: Green/orange lines show tmin/tmax on plots\n",
    "- Two-subplot plotting with residuals in σ units\n",
    "- Separate kwargs: `ylim` for data, `residual_ylim` for residuals\n",
    "- Chi² formatting: 2 sig figs or scientific notation\n",
    "- `recon.to_nbragg()` for proper wavelength-based data conversion\n",
    "- `recon.optimize_noise()` for automatic parameter optimization\n",
    "- Analysis class with clean API: `analysis.model.params`, `analysis.xs`, `analysis.data`\n",
    "\n",
    "**API Changes from v0.1.0**:\n",
    "- **BREAKING**: Poisson sampling should now be called FIRST (after loading)\n",
    "- `seq` → `kernel` parameter\n",
    "- `reconstructed_table` → `reconstructed_data`\n",
    "- Reference is now `poissoned_data` (after Poisson+convolute, before overlap)\n",
    "- Model renamed to Analysis (accessing nbragg via `analysis.model`)\n",
    "- Added `tmin`/`tmax` parameters to `Reconstruct()`\n",
    "- Added `poisson_seed` parameter to `overlap()`\n",
    "\n",
    "**Why Poisson First?**\n",
    "When duty_cycle ≠ 1 in the old workflow, there were height differences causing huge chi². The new workflow fixes this by applying Poisson BEFORE overlap, ensuring the reference and reconstructed data have matching statistics."
   ]
  },
  {
   "cell_type": "code",
   "execution_count": null,
   "metadata": {},
   "outputs": [],
   "source": [
    "try:\n",
    "    # Parameter sensitivity plot\n",
    "    fig = scan.plot_parameter_sensitivity('pulse_duration', 'recon_r_squared', groupby='n_frames')\n",
    "    plt.show()\n",
    "    \n",
    "    # 2D heatmap\n",
    "    fig = scan.plot_heatmap('pulse_duration', 'n_frames', 'fit_thickness')\n",
    "    plt.show()\n",
    "    \n",
    "    # Summary statistics\n",
    "    fig = scan.plot_summary()\n",
    "    plt.show()\n",
    "except Exception as e:\n",
    "    print(f\"Plotting failed: {e}\")"
   ]
  },
  {
   "cell_type": "markdown",
   "metadata": {},
   "source": [
    "## 8. Method Chaining Example\n",
    "\n",
    "The new API supports fluent method chaining for concise workflows."
   ]
  },
  {
   "cell_type": "code",
   "execution_count": null,
   "metadata": {},
   "outputs": [],
   "source": [
    "# Complete workflow in a chained style\n",
    "data_chain = (Data(signal_file='iron_powder.csv', threshold=30)\n",
    "              .convolute_response(pulse_duration=200)\n",
    "              .overlap(seq=[0, 12, 10, 25])\n",
    "              .poisson_sample(duty_cycle=0.8))\n",
    "\n",
    "print(\"Data processing complete via method chaining\")\n",
    "print(data_chain)\n",
    "\n",
    "# Continue with reconstruction\n",
    "recon_chain = Reconstruct(data_chain).filter(kind='wiener', noise_power=0.01)\n",
    "print(f\"\\nReconstruction χ²/dof: {recon_chain.statistics.get('chi2_per_dof', 'N/A')}\")"
   ]
  },
  {
   "cell_type": "markdown",
   "metadata": {},
   "source": [
    "## Summary\n",
    "\n",
    "This tutorial covered:\n",
    "\n",
    "1. **Data Loading**: Loading signal and openbeam ToF data\n",
    "2. **Convolution**: Applying instrument response functions\n",
    "3. **Frame Overlap**: Creating overlapping frame sequences\n",
    "4. **Poisson Sampling**: Simulating counting statistics\n",
    "5. **Reconstruction**: Deconvolving signals with multiple methods\n",
    "6. **Analysis**: Fitting for material parameters\n",
    "7. **Parametric Scans**: Exploring parameter sensitivity\n",
    "8. **Method Chaining**: Concise workflow syntax\n",
    "\n",
    "The new v0.2.0 API provides a clean, intuitive interface for neutron ToF frame overlap analysis!\n",
    "\n",
    "## Additional Resources\n",
    "\n",
    "- Documentation: See README.md for complete API reference\n",
    "- Legacy API: The v0.1.0 functional API remains available for backward compatibility\n",
    "- Source code: https://github.com/TsvikiHirsh/frame_overlap"
   ]
  }
 ],
 "metadata": {
  "kernelspec": {
   "display_name": "Python 3 (ipykernel)",
   "language": "python",
   "name": "python3"
  },
  "language_info": {
   "codemirror_mode": {
    "name": "ipython",
    "version": 3
   },
   "file_extension": ".py",
   "mimetype": "text/x-python",
   "name": "python",
   "nbconvert_exporter": "python",
   "pygments_lexer": "ipython3",
   "version": "3.13.3"
  }
 },
 "nbformat": 4,
 "nbformat_minor": 4
}
