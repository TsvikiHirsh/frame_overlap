{
 "cells": [
  {
   "cell_type": "markdown",
   "metadata": {},
   "source": [
    "# Example 2: Parameter Optimization\n",
    "\n",
    "This example demonstrates how to use parameter sweeps to find optimal processing parameters."
   ]
  },
  {
   "cell_type": "code",
   "execution_count": null,
   "metadata": {},
   "outputs": [],
   "source": [
    "import matplotlib.pyplot as plt\n",
    "import numpy as np\n",
    "from frame_overlap import Workflow\n",
    "\n",
    "%matplotlib inline"
   ]
  },
  {
   "cell_type": "markdown",
   "metadata": {},
   "source": [
    "## Optimize Noise Power\n",
    "\n",
    "Find the optimal `noise_power` parameter for Wiener filtering."
   ]
  },
  {
   "cell_type": "code",
   "execution_count": null,
   "metadata": {},
   "outputs": [],
   "source": [
    "# Set up parameter sweep\n",
    "results = (Workflow('iron_powder.csv', 'openbeam.csv', flux=5e6, duration=0.5, freq=20)\n",
    "    .convolute(pulse_duration=200)\n",
    "    .poisson(flux=1e6, freq=60, measurement_time=30)\n",
    "    .overlap(kernel=[0, 25])\n",
    "    .groupby('noise_power', low=0.05, high=0.5, num=15)\n",
    "    .reconstruct(kind='wiener')\n",
    "    .analyze(xs='iron', vary_background=True, vary_response=True)\n",
    "    .run())\n",
    "\n",
    "# Remove failed runs\n",
    "results_clean = results.dropna(subset=['redchi2'])\n",
    "print(f\"Successful runs: {len(results_clean)}/{len(results)}\")\n",
    "print(\"\\nResults:\")\n",
    "print(results_clean[['noise_power', 'chi2', 'redchi2', 'aic']].head())"
   ]
  },
  {
   "cell_type": "markdown",
   "metadata": {},
   "source": [
    "## Find Optimal Parameters"
   ]
  },
  {
   "cell_type": "code",
   "execution_count": null,
   "metadata": {},
   "outputs": [],
   "source": [
    "# Find best by reduced chi-squared\n",
    "best_chi2 = results_clean.loc[results_clean['redchi2'].idxmin()]\n",
    "print(\"Best by χ²/dof:\")\n",
    "print(f\"  noise_power: {best_chi2['noise_power']:.4f}\")\n",
    "print(f\"  χ²/dof: {best_chi2['redchi2']:.2f}\")\n",
    "\n",
    "# Find best by AIC (Akaike Information Criterion)\n",
    "best_aic = results_clean.loc[results_clean['aic'].idxmin()]\n",
    "print(\"\\nBest by AIC:\")\n",
    "print(f\"  noise_power: {best_aic['noise_power']:.4f}\")\n",
    "print(f\"  AIC: {best_aic['aic']:.1f}\")"
   ]
  },
  {
   "cell_type": "markdown",
   "metadata": {},
   "source": [
    "## Visualize Parameter Space"
   ]
  },
  {
   "cell_type": "code",
   "execution_count": null,
   "metadata": {},
   "outputs": [],
   "source": [
    "fig, axes = plt.subplots(2, 2, figsize=(12, 10))\n",
    "\n",
    "# Plot 1: Reduced chi-squared\n",
    "ax = axes[0, 0]\n",
    "ax.plot(results_clean['noise_power'], results_clean['redchi2'], 'o-', markersize=6)\n",
    "ax.axhline(y=1, color='gray', linestyle='--', alpha=0.5, label='χ²/dof = 1')\n",
    "ax.axvline(x=best_chi2['noise_power'], color='red', linestyle=':', alpha=0.7, label='Optimal')\n",
    "ax.set_xlabel('Noise Power')\n",
    "ax.set_ylabel('Reduced χ²')\n",
    "ax.set_title('Fit Quality vs Noise Power')\n",
    "ax.legend()\n",
    "ax.grid(True, alpha=0.3)\n",
    "\n",
    "# Plot 2: AIC\n",
    "ax = axes[0, 1]\n",
    "ax.plot(results_clean['noise_power'], results_clean['aic'], 's-', color='orange', markersize=6)\n",
    "ax.axvline(x=best_aic['noise_power'], color='red', linestyle=':', alpha=0.7, label='Optimal')\n",
    "ax.set_xlabel('Noise Power')\n",
    "ax.set_ylabel('AIC')\n",
    "ax.set_title('AIC vs Noise Power (lower is better)')\n",
    "ax.legend()\n",
    "ax.grid(True, alpha=0.3)\n",
    "\n",
    "# Plot 3: BIC\n",
    "ax = axes[1, 0]\n",
    "ax.plot(results_clean['noise_power'], results_clean['bic'], '^-', color='green', markersize=6)\n",
    "ax.set_xlabel('Noise Power')\n",
    "ax.set_ylabel('BIC')\n",
    "ax.set_title('BIC vs Noise Power (lower is better)')\n",
    "ax.grid(True, alpha=0.3)\n",
    "\n",
    "# Plot 4: Chi-squared (not reduced)\n",
    "ax = axes[1, 1]\n",
    "ax.semilogy(results_clean['noise_power'], results_clean['chi2'], 'd-', color='purple', markersize=6)\n",
    "ax.set_xlabel('Noise Power')\n",
    "ax.set_ylabel('χ² (log scale)')\n",
    "ax.set_title('Chi-Squared vs Noise Power')\n",
    "ax.grid(True, alpha=0.3)\n",
    "\n",
    "plt.tight_layout()\n",
    "plt.show()"
   ]
  },
  {
   "cell_type": "markdown",
   "metadata": {},
   "source": [
    "## Fitted Parameters vs Noise Power\n",
    "\n",
    "Examine how fitted parameters change with noise_power."
   ]
  },
  {
   "cell_type": "code",
   "execution_count": null,
   "metadata": {},
   "outputs": [],
   "source": [
    "# Get parameter columns\n",
    "param_cols = [col for col in results_clean.columns if col.startswith('param_') and not col.endswith('_err')]\n",
    "\n",
    "# Plot first 4 parameters\n",
    "fig, axes = plt.subplots(2, 2, figsize=(12, 8))\n",
    "axes = axes.flatten()\n",
    "\n",
    "for i, param_col in enumerate(param_cols[:4]):\n",
    "    param_name = param_col.replace('param_', '')\n",
    "    err_col = f\"{param_col}_err\"\n",
    "    \n",
    "    if err_col in results_clean.columns:\n",
    "        axes[i].errorbar(results_clean['noise_power'], \n",
    "                        results_clean[param_col],\n",
    "                        yerr=results_clean[err_col],\n",
    "                        fmt='o-', capsize=3, capthick=1)\n",
    "    else:\n",
    "        axes[i].plot(results_clean['noise_power'], results_clean[param_col], 'o-')\n",
    "    \n",
    "    axes[i].axvline(x=best_chi2['noise_power'], color='red', linestyle=':', alpha=0.5)\n",
    "    axes[i].set_xlabel('Noise Power')\n",
    "    axes[i].set_ylabel(param_name)\n",
    "    axes[i].set_title(f'{param_name} vs Noise Power')\n",
    "    axes[i].grid(True, alpha=0.3)\n",
    "\n",
    "plt.tight_layout()\n",
    "plt.show()"
   ]
  },
  {
   "cell_type": "markdown",
   "metadata": {},
   "source": [
    "## Run with Optimal Parameters"
   ]
  },
  {
   "cell_type": "code",
   "execution_count": null,
   "metadata": {},
   "outputs": [],
   "source": [
    "# Re-run with optimal noise_power\n",
    "optimal_noise = best_chi2['noise_power']\n",
    "\n",
    "wf_optimal = Workflow('iron_powder.csv', 'openbeam.csv', flux=5e6, duration=0.5, freq=20)\n",
    "result = (wf_optimal\n",
    "    .convolute(pulse_duration=200)\n",
    "    .poisson(flux=1e6, freq=60, measurement_time=30)\n",
    "    .overlap(kernel=[0, 25])\n",
    "    .reconstruct(kind='wiener', noise_power=optimal_noise)\n",
    "    .analyze(xs='iron', vary_background=True, vary_response=True))\n",
    "\n",
    "print(f\"\\nOptimized workflow complete!\")\n",
    "print(f\"Noise power: {optimal_noise:.4f}\")\n",
    "print(f\"Final χ²/dof: {wf_optimal.result.redchi:.2f}\")\n",
    "\n",
    "# Plot optimized result\n",
    "wf_optimal.plot()\n",
    "plt.suptitle(f'Optimized Result (noise_power={optimal_noise:.4f})', y=1.02)\n",
    "plt.show()"
   ]
  },
  {
   "cell_type": "markdown",
   "metadata": {},
   "source": [
    "## Key Takeaways\n",
    "\n",
    "- **`.groupby()`**: Easy parameter space exploration\n",
    "- **Progress tracking**: Automatic tqdm progress bars\n",
    "- **Rich results**: DataFrame with all metrics (χ², AIC, BIC, parameters)\n",
    "- **Error handling**: Continues even if individual runs fail\n",
    "- **Multiple criteria**: Compare χ²/dof, AIC, and BIC for model selection\n",
    "- **Parameter stability**: Examine how fitted values change with sweep parameter"
   ]
  }
 ],
 "metadata": {
  "kernelspec": {
   "display_name": "Python 3",
   "language": "python",
   "name": "python3"
  },
  "language_info": {
   "name": "python",
   "version": "3.9.0"
  }
 },
 "nbformat": 4,
 "nbformat_minor": 4
}
