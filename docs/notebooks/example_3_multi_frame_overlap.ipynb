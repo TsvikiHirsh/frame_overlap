{
 "cells": [
  {
   "cell_type": "markdown",
   "metadata": {},
   "source": [
    "# Example 3: Multi-Frame Overlap\n",
    "\n",
    "This example shows how to work with more than 2 overlapping frames and explore different frame configurations."
   ]
  },
  {
   "cell_type": "code",
   "execution_count": null,
   "metadata": {},
   "outputs": [],
   "source": [
    "import matplotlib.pyplot as plt\n",
    "import numpy as np\n",
    "from frame_overlap import Data, Reconstruct, Workflow\n",
    "\n",
    "%matplotlib inline"
   ]
  },
  {
   "cell_type": "markdown",
   "metadata": {},
   "source": [
    "## 3-Frame Overlap Example"
   ]
  },
  {
   "cell_type": "code",
   "execution_count": null,
   "metadata": {},
   "outputs": [],
   "source": [
    "# Create 3-frame overlap: frames start at 0, 15, and 30 ms\n",
    "wf_3frame = Workflow('iron_powder.csv', 'openbeam.csv', flux=5e6, duration=0.5, freq=20)\n",
    "\n",
    "(wf_3frame\n",
    "    .convolute(pulse_duration=200)\n",
    "    .poisson(flux=1e6, freq=60, measurement_time=30)\n",
    "    .overlap(kernel=[0, 15, 30], total_time=45)\n",
    "    .reconstruct(kind='wiener', noise_power=0.01))\n",
    "\n",
    "print(f\"3-frame overlap created\")\n",
    "print(f\"Kernel: {wf_3frame.data.kernel}\")\n",
    "print(f\"Total time: 45 ms\")\n",
    "print(f\"Reconstruction χ²/dof: {wf_3frame.recon.statistics['chi2_per_dof']:.2f}\")"
   ]
  },
  {
   "cell_type": "markdown",
   "metadata": {},
   "source": [
    "## Visualize 3-Frame Overlap"
   ]
  },
  {
   "cell_type": "code",
   "execution_count": null,
   "metadata": {},
   "outputs": [],
   "source": [
    "# Plot overlapped transmission\n",
    "wf_3frame.data.plot(kind='transmission', show_errors=False, ylim=(0, 1), xlim=(0, 45))\n",
    "plt.title('3-Frame Overlap: Transmission')\n",
    "\n",
    "# Add vertical lines showing frame boundaries\n",
    "for frame_start in [0, 15, 30]:\n",
    "    plt.axvline(frame_start, color='red', linestyle='--', alpha=0.3)\n",
    "plt.show()\n",
    "\n",
    "# Plot signal stages\n",
    "wf_3frame.data.plot(kind='signal', show_stages=True, show_errors=False, ylim=(0, 8e3))\n",
    "plt.title('3-Frame Overlap: Signal Processing Stages')\n",
    "plt.show()"
   ]
  },
  {
   "cell_type": "markdown",
   "metadata": {},
   "source": [
    "## Reconstruction Quality"
   ]
  },
  {
   "cell_type": "code",
   "execution_count": null,
   "metadata": {},
   "outputs": [],
   "source": [
    "# Plot reconstruction\n",
    "wf_3frame.recon.plot(kind='transmission', show_errors=False, ylim=(0, 1))\n",
    "plt.show()\n",
    "\n",
    "# Print statistics\n",
    "print(\"Reconstruction Statistics:\")\n",
    "for key, value in wf_3frame.recon.get_statistics().items():\n",
    "    if isinstance(value, float):\n",
    "        print(f\"  {key}: {value:.4f}\")"
   ]
  },
  {
   "cell_type": "markdown",
   "metadata": {},
   "source": [
    "## 4-Frame Overlap Example"
   ]
  },
  {
   "cell_type": "code",
   "execution_count": null,
   "metadata": {},
   "outputs": [],
   "source": [
    "# Create 4-frame overlap: frames at 0, 12, 24, 36 ms\n",
    "wf_4frame = Workflow('iron_powder.csv', 'openbeam.csv', flux=5e6, duration=0.5, freq=20)\n",
    "\n",
    "(wf_4frame\n",
    "    .convolute(pulse_duration=200)\n",
    "    .poisson(flux=1e6, freq=60, measurement_time=30)\n",
    "    .overlap(kernel=[0, 12, 24, 36], total_time=48)\n",
    "    .reconstruct(kind='wiener', noise_power=0.01))\n",
    "\n",
    "print(f\"\\n4-frame overlap created\")\n",
    "print(f\"Kernel: {wf_4frame.data.kernel}\")\n",
    "print(f\"Total time: 48 ms\")\n",
    "print(f\"Reconstruction χ²/dof: {wf_4frame.recon.statistics['chi2_per_dof']:.2f}\")"
   ]
  },
  {
   "cell_type": "code",
   "execution_count": null,
   "metadata": {},
   "outputs": [],
   "source": [
    "# Compare overlapped signals\n",
    "fig, axes = plt.subplots(1, 2, figsize=(14, 4))\n",
    "\n",
    "# 3-frame\n",
    "time_3 = wf_3frame.data.overlapped_data['time'] / 1000  # Convert to ms\n",
    "signal_3 = wf_3frame.data.overlapped_data['counts']\n",
    "axes[0].plot(time_3, signal_3, drawstyle='steps-mid')\n",
    "axes[0].set_xlim(0, 45)\n",
    "axes[0].set_xlabel('Time (ms)')\n",
    "axes[0].set_ylabel('Counts')\n",
    "axes[0].set_title('3-Frame Overlap')\n",
    "axes[0].grid(True, alpha=0.3)\n",
    "for frame in [0, 15, 30]:\n",
    "    axes[0].axvline(frame, color='red', linestyle='--', alpha=0.3)\n",
    "\n",
    "# 4-frame\n",
    "time_4 = wf_4frame.data.overlapped_data['time'] / 1000\n",
    "signal_4 = wf_4frame.data.overlapped_data['counts']\n",
    "axes[1].plot(time_4, signal_4, drawstyle='steps-mid', color='orange')\n",
    "axes[1].set_xlim(0, 48)\n",
    "axes[1].set_xlabel('Time (ms)')\n",
    "axes[1].set_ylabel('Counts')\n",
    "axes[1].set_title('4-Frame Overlap')\n",
    "axes[1].grid(True, alpha=0.3)\n",
    "for frame in [0, 12, 24, 36]:\n",
    "    axes[1].axvline(frame, color='red', linestyle='--', alpha=0.3)\n",
    "\n",
    "plt.tight_layout()\n",
    "plt.show()"
   ]
  },
  {
   "cell_type": "markdown",
   "metadata": {},
   "source": [
    "## Compare Reconstruction Quality\n",
    "\n",
    "More overlapping frames generally make reconstruction harder (higher chi-squared)."
   ]
  },
  {
   "cell_type": "code",
   "execution_count": null,
   "metadata": {},
   "outputs": [],
   "source": [
    "# Create 2-frame for comparison\n",
    "wf_2frame = Workflow('iron_powder.csv', 'openbeam.csv', flux=5e6, duration=0.5, freq=20)\n",
    "(wf_2frame\n",
    "    .convolute(pulse_duration=200)\n",
    "    .poisson(flux=1e6, freq=60, measurement_time=30)\n",
    "    .overlap(kernel=[0, 25])\n",
    "    .reconstruct(kind='wiener', noise_power=0.01))\n",
    "\n",
    "# Compare statistics\n",
    "configs = [\n",
    "    ('2-frame', wf_2frame),\n",
    "    ('3-frame', wf_3frame),\n",
    "    ('4-frame', wf_4frame)\n",
    "]\n",
    "\n",
    "print(\"\\nReconstruction Quality Comparison:\")\n",
    "print(\"-\" * 60)\n",
    "print(f\"{'Config':<12} {'Frames':<8} {'χ²/dof':<12} {'RMSE':<12}\")\n",
    "print(\"-\" * 60)\n",
    "for name, wf in configs:\n",
    "    stats = wf.recon.get_statistics()\n",
    "    n_frames = len(wf.data.kernel)\n",
    "    chi2 = stats['chi2_per_dof']\n",
    "    rmse = stats['rmse']\n",
    "    print(f\"{name:<12} {n_frames:<8} {chi2:<12.2f} {rmse:<12.2e}\")"
   ]
  },
  {
   "cell_type": "markdown",
   "metadata": {},
   "source": [
    "## Optimize for Multi-Frame Setup\n",
    "\n",
    "Find optimal noise_power for 3-frame overlap."
   ]
  },
  {
   "cell_type": "code",
   "execution_count": null,
   "metadata": {},
   "outputs": [],
   "source": [
    "# Sweep noise_power for 3-frame overlap\n",
    "results_3frame = (Workflow('iron_powder.csv', 'openbeam.csv', flux=5e6, duration=0.5, freq=20)\n",
    "    .convolute(pulse_duration=200)\n",
    "    .poisson(flux=1e6, freq=60, measurement_time=30)\n",
    "    .overlap(kernel=[0, 15, 30], total_time=45)\n",
    "    .groupby('noise_power', low=0.05, high=0.3, num=10)\n",
    "    .reconstruct(kind='wiener')\n",
    "    .analyze(xs='iron', vary_background=True, vary_response=True)\n",
    "    .run())\n",
    "\n",
    "results_3frame_clean = results_3frame.dropna(subset=['redchi2'])\n",
    "best_3frame = results_3frame_clean.loc[results_3frame_clean['redchi2'].idxmin()]\n",
    "\n",
    "print(f\"\\nOptimal for 3-frame overlap:\")\n",
    "print(f\"  noise_power: {best_3frame['noise_power']:.4f}\")\n",
    "print(f\"  χ²/dof: {best_3frame['redchi2']:.2f}\")\n",
    "\n",
    "# Plot\n",
    "results_3frame_clean.plot(x='noise_power', y='redchi2', marker='o', style='-o')\n",
    "plt.axvline(best_3frame['noise_power'], color='red', linestyle=':', alpha=0.7)\n",
    "plt.xlabel('Noise Power')\n",
    "plt.ylabel('Reduced χ²')\n",
    "plt.title('3-Frame Overlap: Optimal Noise Power')\n",
    "plt.grid(True, alpha=0.3)\n",
    "plt.show()"
   ]
  },
  {
   "cell_type": "markdown",
   "metadata": {},
   "source": [
    "## Key Takeaways\n",
    "\n",
    "- **Multi-frame support**: Can handle 2, 3, 4, or more overlapping frames\n",
    "- **Frame spacing**: Kernel defines start times for each frame\n",
    "- **Reconstruction difficulty**: More frames → harder reconstruction (higher χ²)\n",
    "- **Parameter optimization**: Optimal noise_power may differ for different frame counts\n",
    "- **Flexible configuration**: Use `total_time` to control overall time range"
   ]
  }
 ],
 "metadata": {
  "kernelspec": {
   "display_name": "Python 3",
   "language": "python",
   "name": "python3"
  },
  "language_info": {
   "name": "python",
   "version": "3.9.0"
  }
 },
 "nbformat": 4,
 "nbformat_minor": 4
}
