{
 "cells": [
  {
   "cell_type": "markdown",
   "metadata": {},
   "source": [
    "# Example 1: Basic Workflow\n",
    "\n",
    "This example shows the simplest way to process frame overlap data using the Workflow class."
   ]
  },
  {
   "cell_type": "code",
   "execution_count": null,
   "metadata": {},
   "outputs": [],
   "source": [
    "import matplotlib.pyplot as plt\n",
    "from frame_overlap import Workflow\n",
    "\n",
    "%matplotlib inline"
   ]
  },
  {
   "cell_type": "markdown",
   "metadata": {},
   "source": [
    "## Complete Pipeline in One Chain\n",
    "\n",
    "Process data from loading through analysis in a single fluent expression."
   ]
  },
  {
   "cell_type": "code",
   "execution_count": null,
   "metadata": {},
   "outputs": [],
   "source": [
    "# Initialize workflow with original measurement parameters\n",
    "wf = Workflow(\n",
    "    signal_path='iron_powder.csv',\n",
    "    openbeam_path='openbeam.csv',\n",
    "    flux=5e6,      # Original flux: 5×10⁶ n/cm²/s\n",
    "    duration=0.5,  # Original duration: 0.5 hours\n",
    "    freq=20        # Original frequency: 20 Hz\n",
    ")\n",
    "\n",
    "# Chain the complete pipeline\n",
    "result = (wf\n",
    "    .convolute(pulse_duration=200)                        # Apply 200 µs pulse\n",
    "    .poisson(flux=1e6, freq=60, measurement_time=30)     # Scale to new conditions\n",
    "    .overlap(kernel=[0, 25])                              # 2-frame overlap\n",
    "    .reconstruct(kind='wiener', noise_power=0.01)        # Wiener deconvolution\n",
    "    .analyze(xs='iron', vary_background=True,            # Fit with nbragg\n",
    "             vary_response=True))\n",
    "\n",
    "print(f\"Workflow complete: {wf}\")\n",
    "print(f\"\\nFinal χ²/dof: {wf.result.redchi:.2f}\")"
   ]
  },
  {
   "cell_type": "markdown",
   "metadata": {},
   "source": [
    "## Visualize Results"
   ]
  },
  {
   "cell_type": "code",
   "execution_count": null,
   "metadata": {},
   "outputs": [],
   "source": [
    "# Plot the final analysis\n",
    "wf.plot()\n",
    "plt.show()"
   ]
  },
  {
   "cell_type": "markdown",
   "metadata": {},
   "source": [
    "## Access Results\n",
    "\n",
    "The workflow stores all intermediate and final results."
   ]
  },
  {
   "cell_type": "code",
   "execution_count": null,
   "metadata": {},
   "outputs": [],
   "source": [
    "# Access different stages\n",
    "print(\"Data object:\", wf.data)\n",
    "print(\"Reconstruction:\", wf.recon)\n",
    "print(\"Analysis:\", wf.analysis)\n",
    "\n",
    "# Access fitted parameters\n",
    "print(\"\\nFitted Parameters:\")\n",
    "for name, param in wf.result.params.items():\n",
    "    if param.vary:\n",
    "        print(f\"  {name}: {param.value:.4f} ± {param.stderr:.4f}\")"
   ]
  },
  {
   "cell_type": "markdown",
   "metadata": {},
   "source": [
    "## Plot Intermediate Stages"
   ]
  },
  {
   "cell_type": "code",
   "execution_count": null,
   "metadata": {},
   "outputs": [],
   "source": [
    "# Plot reconstruction quality\n",
    "wf.recon.plot(kind='transmission', show_errors=False, ylim=(0, 1))\n",
    "plt.show()\n",
    "\n",
    "# Plot data stages\n",
    "wf.data.plot(kind='signal', show_stages=True, show_errors=False, ylim=(0, 5e3))\n",
    "plt.show()"
   ]
  },
  {
   "cell_type": "markdown",
   "metadata": {},
   "source": [
    "## Key Takeaways\n",
    "\n",
    "- **One chain**: Complete pipeline in a single fluent expression\n",
    "- **Automatic flux scaling**: Poisson automatically uses pulse_duration from convolute\n",
    "- **All results accessible**: Data, reconstruction, and analysis stored in workflow\n",
    "- **Easy visualization**: `.plot()` shows current stage results"
   ]
  }
 ],
 "metadata": {
  "kernelspec": {
   "display_name": "Python 3",
   "language": "python",
   "name": "python3"
  },
  "language_info": {
   "name": "python",
   "version": "3.9.0"
  }
 },
 "nbformat": 4,
 "nbformat_minor": 4
}
